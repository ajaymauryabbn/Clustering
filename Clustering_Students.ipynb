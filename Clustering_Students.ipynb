{
 "cells": [
  {
   "cell_type": "markdown",
   "id": "e03cf34d",
   "metadata": {},
   "source": [
    "Given the Dataset , Our aim is to Cluster/Group the students enrolled in Educational Academy, On basis of Paysacle, Company Tier, Designation so that these groups have high interpretibility & actionable."
   ]
  },
  {
   "cell_type": "code",
   "execution_count": 1,
   "id": "378c5d14",
   "metadata": {
    "id": "74408057"
   },
   "outputs": [],
   "source": [
    "import re\n",
    "import numpy as np\n",
    "import pandas as pd"
   ]
  },
  {
   "cell_type": "code",
   "execution_count": 2,
   "id": "9db352bd",
   "metadata": {
    "id": "2fb87140"
   },
   "outputs": [
    {
     "data": {
      "text/html": [
       "<div>\n",
       "<style scoped>\n",
       "    .dataframe tbody tr th:only-of-type {\n",
       "        vertical-align: middle;\n",
       "    }\n",
       "\n",
       "    .dataframe tbody tr th {\n",
       "        vertical-align: top;\n",
       "    }\n",
       "\n",
       "    .dataframe thead th {\n",
       "        text-align: right;\n",
       "    }\n",
       "</style>\n",
       "<table border=\"1\" class=\"dataframe\">\n",
       "  <thead>\n",
       "    <tr style=\"text-align: right;\">\n",
       "      <th></th>\n",
       "      <th>Unnamed: 0</th>\n",
       "      <th>company_hash</th>\n",
       "      <th>email_hash</th>\n",
       "      <th>orgyear</th>\n",
       "      <th>ctc</th>\n",
       "      <th>job_position</th>\n",
       "      <th>ctc_updated_year</th>\n",
       "    </tr>\n",
       "  </thead>\n",
       "  <tbody>\n",
       "    <tr>\n",
       "      <th>0</th>\n",
       "      <td>0</td>\n",
       "      <td>atrgxnnt xzaxv</td>\n",
       "      <td>6de0a4417d18ab14334c3f43397fc13b30c35149d70c05...</td>\n",
       "      <td>2016.0</td>\n",
       "      <td>1100000</td>\n",
       "      <td>Other</td>\n",
       "      <td>2020.0</td>\n",
       "    </tr>\n",
       "    <tr>\n",
       "      <th>1</th>\n",
       "      <td>1</td>\n",
       "      <td>qtrxvzwt xzegwgbb rxbxnta</td>\n",
       "      <td>b0aaf1ac138b53cb6e039ba2c3d6604a250d02d5145c10...</td>\n",
       "      <td>2018.0</td>\n",
       "      <td>449999</td>\n",
       "      <td>FullStack Engineer</td>\n",
       "      <td>2019.0</td>\n",
       "    </tr>\n",
       "  </tbody>\n",
       "</table>\n",
       "</div>"
      ],
      "text/plain": [
       "   Unnamed: 0               company_hash  \\\n",
       "0           0             atrgxnnt xzaxv   \n",
       "1           1  qtrxvzwt xzegwgbb rxbxnta   \n",
       "\n",
       "                                          email_hash  orgyear      ctc  \\\n",
       "0  6de0a4417d18ab14334c3f43397fc13b30c35149d70c05...   2016.0  1100000   \n",
       "1  b0aaf1ac138b53cb6e039ba2c3d6604a250d02d5145c10...   2018.0   449999   \n",
       "\n",
       "         job_position  ctc_updated_year  \n",
       "0               Other            2020.0  \n",
       "1  FullStack Engineer            2019.0  "
      ]
     },
     "execution_count": 2,
     "metadata": {},
     "output_type": "execute_result"
    }
   ],
   "source": [
    "#Loading the data set\n",
    "df = pd.read_csv('student_clustering.csv')\n",
    "df.head(2)"
   ]
  },
  {
   "cell_type": "code",
   "execution_count": 4,
   "id": "d0ab0291",
   "metadata": {
    "id": "9157ff26",
    "outputId": "ddd7811c-cdfa-4c5a-d412-1a94b9a3122b"
   },
   "outputs": [
    {
     "data": {
      "text/html": [
       "<div>\n",
       "<style scoped>\n",
       "    .dataframe tbody tr th:only-of-type {\n",
       "        vertical-align: middle;\n",
       "    }\n",
       "\n",
       "    .dataframe tbody tr th {\n",
       "        vertical-align: top;\n",
       "    }\n",
       "\n",
       "    .dataframe thead th {\n",
       "        text-align: right;\n",
       "    }\n",
       "</style>\n",
       "<table border=\"1\" class=\"dataframe\">\n",
       "  <thead>\n",
       "    <tr style=\"text-align: right;\">\n",
       "      <th></th>\n",
       "      <th>job_position</th>\n",
       "    </tr>\n",
       "  </thead>\n",
       "  <tbody>\n",
       "    <tr>\n",
       "      <th>Backend Engineer</th>\n",
       "      <td>43554</td>\n",
       "    </tr>\n",
       "    <tr>\n",
       "      <th>FullStack Engineer</th>\n",
       "      <td>24717</td>\n",
       "    </tr>\n",
       "    <tr>\n",
       "      <th>Other</th>\n",
       "      <td>18071</td>\n",
       "    </tr>\n",
       "    <tr>\n",
       "      <th>Frontend Engineer</th>\n",
       "      <td>10417</td>\n",
       "    </tr>\n",
       "    <tr>\n",
       "      <th>Engineering Leadership</th>\n",
       "      <td>6870</td>\n",
       "    </tr>\n",
       "    <tr>\n",
       "      <th>QA Engineer</th>\n",
       "      <td>6587</td>\n",
       "    </tr>\n",
       "    <tr>\n",
       "      <th>Data Scientist</th>\n",
       "      <td>5368</td>\n",
       "    </tr>\n",
       "    <tr>\n",
       "      <th>Android Engineer</th>\n",
       "      <td>5357</td>\n",
       "    </tr>\n",
       "    <tr>\n",
       "      <th>SDET</th>\n",
       "      <td>4967</td>\n",
       "    </tr>\n",
       "    <tr>\n",
       "      <th>Devops Engineer</th>\n",
       "      <td>4612</td>\n",
       "    </tr>\n",
       "    <tr>\n",
       "      <th>Support Engineer</th>\n",
       "      <td>3603</td>\n",
       "    </tr>\n",
       "    <tr>\n",
       "      <th>Data Analyst</th>\n",
       "      <td>2906</td>\n",
       "    </tr>\n",
       "    <tr>\n",
       "      <th>iOS Engineer</th>\n",
       "      <td>2746</td>\n",
       "    </tr>\n",
       "    <tr>\n",
       "      <th>Engineering Intern</th>\n",
       "      <td>2692</td>\n",
       "    </tr>\n",
       "    <tr>\n",
       "      <th>Product Designer</th>\n",
       "      <td>1314</td>\n",
       "    </tr>\n",
       "    <tr>\n",
       "      <th>Backend Architect</th>\n",
       "      <td>1287</td>\n",
       "    </tr>\n",
       "    <tr>\n",
       "      <th>Fullstack Engineer</th>\n",
       "      <td>1265</td>\n",
       "    </tr>\n",
       "    <tr>\n",
       "      <th>Research Engineers</th>\n",
       "      <td>1228</td>\n",
       "    </tr>\n",
       "    <tr>\n",
       "      <th>Product Manager</th>\n",
       "      <td>1161</td>\n",
       "    </tr>\n",
       "    <tr>\n",
       "      <th>Program Manager</th>\n",
       "      <td>814</td>\n",
       "    </tr>\n",
       "    <tr>\n",
       "      <th>Non Coder</th>\n",
       "      <td>595</td>\n",
       "    </tr>\n",
       "    <tr>\n",
       "      <th>Database Administrator</th>\n",
       "      <td>552</td>\n",
       "    </tr>\n",
       "    <tr>\n",
       "      <th>Co-founder</th>\n",
       "      <td>373</td>\n",
       "    </tr>\n",
       "    <tr>\n",
       "      <th>Security Leadership</th>\n",
       "      <td>148</td>\n",
       "    </tr>\n",
       "    <tr>\n",
       "      <th>Release Engineer</th>\n",
       "      <td>126</td>\n",
       "    </tr>\n",
       "    <tr>\n",
       "      <th>Senior  Software Engineer</th>\n",
       "      <td>55</td>\n",
       "    </tr>\n",
       "    <tr>\n",
       "      <th>Intern</th>\n",
       "      <td>42</td>\n",
       "    </tr>\n",
       "    <tr>\n",
       "      <th>Software Engineer (Backend)</th>\n",
       "      <td>42</td>\n",
       "    </tr>\n",
       "    <tr>\n",
       "      <th>System Engineer</th>\n",
       "      <td>39</td>\n",
       "    </tr>\n",
       "    <tr>\n",
       "      <th>SDE 2</th>\n",
       "      <td>26</td>\n",
       "    </tr>\n",
       "  </tbody>\n",
       "</table>\n",
       "</div>"
      ],
      "text/plain": [
       "                             job_position\n",
       "Backend Engineer                    43554\n",
       "FullStack Engineer                  24717\n",
       "Other                               18071\n",
       "Frontend Engineer                   10417\n",
       "Engineering Leadership               6870\n",
       "QA Engineer                          6587\n",
       "Data Scientist                       5368\n",
       "Android Engineer                     5357\n",
       "SDET                                 4967\n",
       "Devops Engineer                      4612\n",
       "Support Engineer                     3603\n",
       "Data Analyst                         2906\n",
       "iOS Engineer                         2746\n",
       "Engineering Intern                   2692\n",
       "Product Designer                     1314\n",
       "Backend Architect                    1287\n",
       "Fullstack Engineer                   1265\n",
       "Research Engineers                   1228\n",
       "Product Manager                      1161\n",
       "Program Manager                       814\n",
       "Non Coder                             595\n",
       "Database Administrator                552\n",
       "Co-founder                            373\n",
       "Security Leadership                   148\n",
       "Release Engineer                      126\n",
       "Senior  Software Engineer              55\n",
       "Intern                                 42\n",
       "Software Engineer (Backend)            42\n",
       "System Engineer                        39\n",
       "SDE 2                                  26"
      ]
     },
     "execution_count": 4,
     "metadata": {},
     "output_type": "execute_result"
    }
   ],
   "source": [
    "#Top 30 Job Positions\n",
    "pd.DataFrame(df.job_position.value_counts())[:30]"
   ]
  },
  {
   "cell_type": "markdown",
   "id": "790110f1",
   "metadata": {},
   "source": [
    "From seeing Job positions seems many are redundant, so we need to clean it."
   ]
  },
  {
   "cell_type": "markdown",
   "id": "73b8a734",
   "metadata": {
    "id": "883953da"
   },
   "source": [
    "# Data Preprocessing - Cleaning of all variables "
   ]
  },
  {
   "cell_type": "code",
   "execution_count": 5,
   "id": "69fe4874",
   "metadata": {
    "id": "26fb0667"
   },
   "outputs": [],
   "source": [
    "#Dropping the email column as it gives mostly person anme & company name, so company name we already have.\n",
    "df.drop(columns=['email_hash','Unnamed: 0'],inplace=True)"
   ]
  },
  {
   "cell_type": "code",
   "execution_count": 6,
   "id": "32eb17fa",
   "metadata": {
    "id": "faa7d89c"
   },
   "outputs": [
    {
     "data": {
      "text/plain": [
       "'airtel x labs'"
      ]
     },
     "execution_count": 6,
     "metadata": {},
     "output_type": "execute_result"
    }
   ],
   "source": [
    "#Creating a function to remove unneccesary characters \n",
    "def preprocess_string(string):\n",
    "    new_string= re.sub('[^A-Za-z ]+', '', string).lower().strip()\n",
    "    return new_string\n",
    " \n",
    "#Checking the created function.\n",
    "mystring='\\tAirtel\\\\\\\\&&**() X Labs'\n",
    "preprocess_string(mystring)"
   ]
  },
  {
   "cell_type": "code",
   "execution_count": 7,
   "id": "e665acd6",
   "metadata": {},
   "outputs": [
    {
     "data": {
      "text/plain": [
       "1017"
      ]
     },
     "execution_count": 7,
     "metadata": {},
     "output_type": "execute_result"
    }
   ],
   "source": [
    "# No of Unique job profiles.\n",
    "df.job_position.nunique()"
   ]
  },
  {
   "cell_type": "code",
   "execution_count": 8,
   "id": "883c6d89",
   "metadata": {
    "id": "9b848307",
    "outputId": "fd06b2e3-974d-4a53-82de-3b4a63c1f657"
   },
   "outputs": [
    {
     "data": {
      "text/plain": [
       "857"
      ]
     },
     "execution_count": 8,
     "metadata": {},
     "output_type": "execute_result"
    }
   ],
   "source": [
    "#Appplying preprocess function on 'job_position' column.\n",
    "df.job_position=df.job_position.apply(lambda x: preprocess_string(str(x)))\n",
    "df.job_position.nunique()"
   ]
  },
  {
   "cell_type": "code",
   "execution_count": 9,
   "id": "4be6710c",
   "metadata": {
    "id": "2591fbba",
    "outputId": "bc70ebbf-7e31-4285-dba0-c7ce27563ec2"
   },
   "outputs": [
    {
     "data": {
      "text/plain": [
       "(205843, 5)"
      ]
     },
     "execution_count": 9,
     "metadata": {},
     "output_type": "execute_result"
    }
   ],
   "source": [
    "df.shape"
   ]
  },
  {
   "cell_type": "code",
   "execution_count": 10,
   "id": "6fe77046",
   "metadata": {
    "id": "6fa8f9aa",
    "outputId": "99195c12-89e7-4089-e17b-db3133039c5b"
   },
   "outputs": [
    {
     "data": {
      "text/plain": [
       "0                                 2\n",
       "0000                              1\n",
       "01 ojztqsj                        2\n",
       "05mz exzytvrny uqxcvnt rxbxnta    2\n",
       "1                                 2\n",
       "                                 ..\n",
       "zyvzwt wgzohrnxzs tzsxzttqo       1\n",
       "zz                                2\n",
       "zzb ztdnstz vacxogqj ucn rna      2\n",
       "zzgato                            1\n",
       "zzzbzb                            1\n",
       "Name: company_hash, Length: 37299, dtype: int64"
      ]
     },
     "execution_count": 10,
     "metadata": {},
     "output_type": "execute_result"
    }
   ],
   "source": [
    "df['company_hash'].value_counts().sort_index()"
   ]
  },
  {
   "cell_type": "code",
   "execution_count": 11,
   "id": "772ae793",
   "metadata": {},
   "outputs": [
    {
     "data": {
      "text/plain": [
       "37299"
      ]
     },
     "execution_count": 11,
     "metadata": {},
     "output_type": "execute_result"
    }
   ],
   "source": [
    "#No of Unique companies.\n",
    "df.company_hash.nunique()"
   ]
  },
  {
   "cell_type": "code",
   "execution_count": 12,
   "id": "1ac69115",
   "metadata": {
    "id": "d02e6c13",
    "outputId": "3a83d40b-fc04-4476-f41b-00c2efeb30fa"
   },
   "outputs": [
    {
     "data": {
      "text/plain": [
       "37208"
      ]
     },
     "execution_count": 12,
     "metadata": {},
     "output_type": "execute_result"
    }
   ],
   "source": [
    "#Applying preprocess function on company_name.\n",
    "df.company_hash=df.company_hash.apply(lambda x: preprocess_string(str(x)))\n",
    "df.company_hash.nunique()"
   ]
  },
  {
   "cell_type": "code",
   "execution_count": 13,
   "id": "5a3ce10c",
   "metadata": {
    "id": "8aa5e246",
    "outputId": "ca7c0634-d814-4390-8843-5b6d93847552"
   },
   "outputs": [
    {
     "data": {
      "text/plain": [
       "                                                89\n",
       "a                                                1\n",
       "a b onttr wgqu                                   1\n",
       "a j uvnxr owyggr ge tzsxzttqxzs vwvatbj vbmx     1\n",
       "a ntwy ogrhnxgzo ucn rna                         2\n",
       "                                                ..\n",
       "zz                                               2\n",
       "zz wgzztwn mya                                   1\n",
       "zzb ztdnstz vacxogqj ucn rna                     2\n",
       "zzgato                                           1\n",
       "zzzbzb                                           1\n",
       "Name: company_hash, Length: 37208, dtype: int64"
      ]
     },
     "execution_count": 13,
     "metadata": {},
     "output_type": "execute_result"
    }
   ],
   "source": [
    "df['company_hash'].value_counts().sort_index()"
   ]
  },
  {
   "cell_type": "code",
   "execution_count": 14,
   "id": "af297674",
   "metadata": {
    "id": "d6cdbd0f"
   },
   "outputs": [],
   "source": [
    "#removing rows where company or job_position is not available\n",
    "df=df[ ~((df['company_hash']=='') | (df['job_position']==''))]"
   ]
  },
  {
   "cell_type": "markdown",
   "id": "20722389",
   "metadata": {
    "id": "167979e9"
   },
   "source": [
    "### Filling Null values using Mean Target Inputation for Orgyear"
   ]
  },
  {
   "cell_type": "code",
   "execution_count": 15,
   "id": "9149d7d5",
   "metadata": {
    "id": "fd84ec67",
    "outputId": "02bc8211-966d-472f-8d67-efdf020eefaa"
   },
   "outputs": [
    {
     "data": {
      "text/plain": [
       "86"
      ]
     },
     "execution_count": 15,
     "metadata": {},
     "output_type": "execute_result"
    }
   ],
   "source": [
    "df['orgyear'].isnull().sum()"
   ]
  },
  {
   "cell_type": "code",
   "execution_count": 16,
   "id": "5717a8e7",
   "metadata": {},
   "outputs": [],
   "source": [
    "df['orgyear'].fillna(df.groupby('company_hash')['orgyear'].transform('median'), inplace=True)"
   ]
  },
  {
   "cell_type": "code",
   "execution_count": 17,
   "id": "f0de4ea9",
   "metadata": {},
   "outputs": [],
   "source": [
    "df = df.loc[~df['orgyear'].isna()]"
   ]
  },
  {
   "cell_type": "markdown",
   "id": "1d51b221",
   "metadata": {
    "id": "455628d4"
   },
   "source": [
    "### Checking for outliers in orgyear"
   ]
  },
  {
   "cell_type": "code",
   "execution_count": 18,
   "id": "1b1252f0",
   "metadata": {},
   "outputs": [
    {
     "data": {
      "text/plain": [
       "0    2016.0\n",
       "1    2018.0\n",
       "2    2015.0\n",
       "3    2017.0\n",
       "4    2017.0\n",
       "Name: orgyear, dtype: float64"
      ]
     },
     "execution_count": 18,
     "metadata": {},
     "output_type": "execute_result"
    }
   ],
   "source": [
    "df.orgyear.head()"
   ]
  },
  {
   "cell_type": "code",
   "execution_count": 19,
   "id": "b3e2da91",
   "metadata": {},
   "outputs": [
    {
     "data": {
      "text/plain": [
       "count    205719.000000\n",
       "mean       2014.882247\n",
       "std          63.576889\n",
       "min           0.000000\n",
       "25%        2013.000000\n",
       "50%        2016.000000\n",
       "75%        2018.000000\n",
       "max       20165.000000\n",
       "Name: orgyear, dtype: float64"
      ]
     },
     "execution_count": 19,
     "metadata": {},
     "output_type": "execute_result"
    }
   ],
   "source": [
    "df.orgyear.describe()"
   ]
  },
  {
   "cell_type": "code",
   "execution_count": 20,
   "id": "11987d11",
   "metadata": {
    "id": "7b0bbe39",
    "outputId": "90568de3-18c5-4f26-dbea-07220ca5446b",
    "scrolled": true
   },
   "outputs": [
    {
     "data": {
      "text/plain": [
       "<AxesSubplot:>"
      ]
     },
     "execution_count": 20,
     "metadata": {},
     "output_type": "execute_result"
    },
    {
     "data": {
      "image/png": "[encoded data removed]",
      "text/plain": [
       "<Figure size 640x480 with 1 Axes>"
      ]
     },
     "metadata": {},
     "output_type": "display_data"
    }
   ],
   "source": [
    "#simple understanding\n",
    "df.orgyear.hist(bins=20)"
   ]
  },
  {
   "cell_type": "markdown",
   "id": "870ef704",
   "metadata": {},
   "source": [
    "The Graph shows as there are many outliers are present in data"
   ]
  },
  {
   "cell_type": "code",
   "execution_count": 21,
   "id": "0b664bdf",
   "metadata": {
    "id": "611a90dd"
   },
   "outputs": [],
   "source": [
    "# Clipping the outliers in 'orgyear' & in 'ctc' to upper value to 99%ile & lower value to 1%ile\n",
    "df['orgyear'] = df['orgyear'].clip(lower=df.orgyear.quantile(0.01), upper=df.orgyear.quantile(0.99))\n",
    "df['ctc'] = df['ctc'].clip(lower=df.ctc.quantile(0.01), upper=df.ctc.quantile(0.99))"
   ]
  },
  {
   "cell_type": "code",
   "execution_count": 22,
   "id": "5ca19fa8",
   "metadata": {
    "id": "02024604"
   },
   "outputs": [],
   "source": [
    "#We see some 'nan's in job_position \n",
    "df.loc[df['job_position']=='nan', 'job_position']=np.nan"
   ]
  },
  {
   "cell_type": "markdown",
   "id": "7826ede5",
   "metadata": {
    "id": "63ba7f07"
   },
   "source": [
    "## Making company names  to \"Others\" whose having count less than 5"
   ]
  },
  {
   "cell_type": "code",
   "execution_count": 23,
   "id": "cd42a259",
   "metadata": {
    "id": "96eed5c0",
    "outputId": "73107ed1-d710-4e10-c569-1ab84f076a17"
   },
   "outputs": [
    {
     "data": {
      "text/plain": [
       "nvnv wgzohrnvzwj otqcxwto                  8337\n",
       "xzegojo                                    5381\n",
       "vbvkgz                                     3481\n",
       "zgn vuurxwvmrt vwwghzn                     3410\n",
       "wgszxkvzn                                  3239\n",
       "                                           ... \n",
       "btaxvurtd xn otqcxwto                         1\n",
       "mrvwpmtqs                                     1\n",
       "zxwt ogenfvqt ogrhnxgzo uqxcvnt rxbxnta       1\n",
       "otwhqtrvjtq                                   1\n",
       "bvptbjnqxu td vbvkgz                          1\n",
       "Name: company_hash, Length: 37180, dtype: int64"
      ]
     },
     "execution_count": 23,
     "metadata": {},
     "output_type": "execute_result"
    }
   ],
   "source": [
    "#making the code\n",
    "df.company_hash.value_counts()"
   ]
  },
  {
   "cell_type": "code",
   "execution_count": 24,
   "id": "6678b1f1",
   "metadata": {},
   "outputs": [],
   "source": [
    "df.loc[df.groupby('company_hash')['ctc'].transform('count') < 5, 'company_hash'] = 'Others'"
   ]
  },
  {
   "cell_type": "markdown",
   "id": "3fe42cdf",
   "metadata": {
    "id": "4487d460"
   },
   "source": [
    "#### Creating Years of Experience Columns"
   ]
  },
  {
   "cell_type": "code",
   "execution_count": 25,
   "id": "a516e499",
   "metadata": {},
   "outputs": [
    {
     "data": {
      "text/plain": [
       "count    205719.000000\n",
       "mean       2015.145115\n",
       "std           4.061949\n",
       "min        2001.000000\n",
       "25%        2013.000000\n",
       "50%        2016.000000\n",
       "75%        2018.000000\n",
       "max        2021.000000\n",
       "Name: orgyear, dtype: float64"
      ]
     },
     "execution_count": 25,
     "metadata": {},
     "output_type": "execute_result"
    }
   ],
   "source": [
    "df['orgyear'].describe()"
   ]
  },
  {
   "cell_type": "code",
   "execution_count": 26,
   "id": "b8ff09dc",
   "metadata": {
    "id": "ed1e1111"
   },
   "outputs": [],
   "source": [
    "df['years_of_experience']=2022-df['orgyear']"
   ]
  },
  {
   "cell_type": "code",
   "execution_count": 27,
   "id": "6c51bdc1",
   "metadata": {
    "colab": {
     "base_uri": "https://localhost:8080/"
    },
    "id": "141ee166",
    "outputId": "58d282f7-034b-4007-f8f5-bfcf01c28f05"
   },
   "outputs": [
    {
     "data": {
      "text/plain": [
       "(166755, 6)"
      ]
     },
     "execution_count": 27,
     "metadata": {},
     "output_type": "execute_result"
    }
   ],
   "source": [
    "df.drop_duplicates(inplace=True)\n",
    "df.shape"
   ]
  },
  {
   "cell_type": "code",
   "execution_count": 28,
   "id": "03a9cd90",
   "metadata": {
    "id": "40f34347"
   },
   "outputs": [],
   "source": [
    "df=df[~df['years_of_experience'].isnull()]"
   ]
  },
  {
   "cell_type": "code",
   "execution_count": 29,
   "id": "da3f1dc3",
   "metadata": {
    "id": "325f4832"
   },
   "outputs": [],
   "source": [
    "# update cant be before joining\n",
    "df['ctc_updated_year'] = df[['ctc_updated_year', 'orgyear']].max(axis=1)"
   ]
  },
  {
   "cell_type": "code",
   "execution_count": 30,
   "id": "47e8f1ba",
   "metadata": {
    "id": "557ec8a2"
   },
   "outputs": [],
   "source": [
    "#Filling null values with others  -- if not done before\n",
    "df['job_position'] = df['job_position'].fillna('Others')\n",
    "df['company_hash'] = df['company_hash'].fillna('Others')"
   ]
  },
  {
   "cell_type": "code",
   "execution_count": 31,
   "id": "ae69a0f8",
   "metadata": {
    "colab": {
     "base_uri": "https://localhost:8080/"
    },
    "id": "95ecf00c",
    "outputId": "f62c9dd0-4b57-4c03-e799-139fdbc54795"
   },
   "outputs": [
    {
     "data": {
      "text/plain": [
       "company_hash           0\n",
       "orgyear                0\n",
       "ctc                    0\n",
       "job_position           0\n",
       "ctc_updated_year       0\n",
       "years_of_experience    0\n",
       "dtype: int64"
      ]
     },
     "execution_count": 31,
     "metadata": {},
     "output_type": "execute_result"
    }
   ],
   "source": [
    "df.isnull().sum()"
   ]
  },
  {
   "cell_type": "markdown",
   "id": "98c8f380",
   "metadata": {},
   "source": [
    "All good now as Null values are 0"
   ]
  },
  {
   "cell_type": "code",
   "execution_count": 32,
   "id": "f6e47340",
   "metadata": {
    "colab": {
     "base_uri": "https://localhost:8080/"
    },
    "id": "wLX4oiE1R148",
    "outputId": "417b84a7-4298-4399-bb96-c1b1c7e63b7c"
   },
   "outputs": [
    {
     "data": {
      "text/plain": [
       "(165620, 6)"
      ]
     },
     "execution_count": 32,
     "metadata": {},
     "output_type": "execute_result"
    }
   ],
   "source": [
    "#Dropping the duplicates if present.\n",
    "df.drop_duplicates(inplace=True)\n",
    "df.shape"
   ]
  },
  {
   "cell_type": "code",
   "execution_count": 33,
   "id": "b3bbbc4b",
   "metadata": {
    "id": "17a3e27c",
    "outputId": "a80fac72-fd68-4eb9-f10c-5500c8787738"
   },
   "outputs": [
    {
     "data": {
      "text/html": [
       "<div>\n",
       "<style scoped>\n",
       "    .dataframe tbody tr th:only-of-type {\n",
       "        vertical-align: middle;\n",
       "    }\n",
       "\n",
       "    .dataframe tbody tr th {\n",
       "        vertical-align: top;\n",
       "    }\n",
       "\n",
       "    .dataframe thead th {\n",
       "        text-align: right;\n",
       "    }\n",
       "</style>\n",
       "<table border=\"1\" class=\"dataframe\">\n",
       "  <thead>\n",
       "    <tr style=\"text-align: right;\">\n",
       "      <th></th>\n",
       "      <th>orgyear</th>\n",
       "      <th>ctc</th>\n",
       "      <th>ctc_updated_year</th>\n",
       "      <th>years_of_experience</th>\n",
       "    </tr>\n",
       "  </thead>\n",
       "  <tbody>\n",
       "    <tr>\n",
       "      <th>count</th>\n",
       "      <td>165620.000000</td>\n",
       "      <td>1.656200e+05</td>\n",
       "      <td>165620.000000</td>\n",
       "      <td>165620.000000</td>\n",
       "    </tr>\n",
       "    <tr>\n",
       "      <th>mean</th>\n",
       "      <td>2014.801485</td>\n",
       "      <td>1.516123e+06</td>\n",
       "      <td>2019.584187</td>\n",
       "      <td>7.198515</td>\n",
       "    </tr>\n",
       "    <tr>\n",
       "      <th>std</th>\n",
       "      <td>4.142392</td>\n",
       "      <td>1.682145e+06</td>\n",
       "      <td>1.325693</td>\n",
       "      <td>4.142392</td>\n",
       "    </tr>\n",
       "    <tr>\n",
       "      <th>min</th>\n",
       "      <td>2001.000000</td>\n",
       "      <td>3.800000e+04</td>\n",
       "      <td>2015.000000</td>\n",
       "      <td>1.000000</td>\n",
       "    </tr>\n",
       "    <tr>\n",
       "      <th>25%</th>\n",
       "      <td>2013.000000</td>\n",
       "      <td>6.000000e+05</td>\n",
       "      <td>2019.000000</td>\n",
       "      <td>4.000000</td>\n",
       "    </tr>\n",
       "    <tr>\n",
       "      <th>50%</th>\n",
       "      <td>2016.000000</td>\n",
       "      <td>1.040000e+06</td>\n",
       "      <td>2020.000000</td>\n",
       "      <td>6.000000</td>\n",
       "    </tr>\n",
       "    <tr>\n",
       "      <th>75%</th>\n",
       "      <td>2018.000000</td>\n",
       "      <td>1.800000e+06</td>\n",
       "      <td>2021.000000</td>\n",
       "      <td>9.000000</td>\n",
       "    </tr>\n",
       "    <tr>\n",
       "      <th>max</th>\n",
       "      <td>2021.000000</td>\n",
       "      <td>1.260000e+07</td>\n",
       "      <td>2021.000000</td>\n",
       "      <td>21.000000</td>\n",
       "    </tr>\n",
       "  </tbody>\n",
       "</table>\n",
       "</div>"
      ],
      "text/plain": [
       "             orgyear           ctc  ctc_updated_year  years_of_experience\n",
       "count  165620.000000  1.656200e+05     165620.000000        165620.000000\n",
       "mean     2014.801485  1.516123e+06       2019.584187             7.198515\n",
       "std         4.142392  1.682145e+06          1.325693             4.142392\n",
       "min      2001.000000  3.800000e+04       2015.000000             1.000000\n",
       "25%      2013.000000  6.000000e+05       2019.000000             4.000000\n",
       "50%      2016.000000  1.040000e+06       2020.000000             6.000000\n",
       "75%      2018.000000  1.800000e+06       2021.000000             9.000000\n",
       "max      2021.000000  1.260000e+07       2021.000000            21.000000"
      ]
     },
     "execution_count": 33,
     "metadata": {},
     "output_type": "execute_result"
    }
   ],
   "source": [
    "# Stastical Summary of Data.\n",
    "df.describe()"
   ]
  },
  {
   "cell_type": "code",
   "execution_count": 34,
   "id": "382364d8",
   "metadata": {},
   "outputs": [
    {
     "data": {
      "text/html": [
       "<div>\n",
       "<style scoped>\n",
       "    .dataframe tbody tr th:only-of-type {\n",
       "        vertical-align: middle;\n",
       "    }\n",
       "\n",
       "    .dataframe tbody tr th {\n",
       "        vertical-align: top;\n",
       "    }\n",
       "\n",
       "    .dataframe thead th {\n",
       "        text-align: right;\n",
       "    }\n",
       "</style>\n",
       "<table border=\"1\" class=\"dataframe\">\n",
       "  <thead>\n",
       "    <tr style=\"text-align: right;\">\n",
       "      <th></th>\n",
       "      <th>company_hash</th>\n",
       "      <th>orgyear</th>\n",
       "      <th>ctc</th>\n",
       "      <th>job_position</th>\n",
       "      <th>ctc_updated_year</th>\n",
       "      <th>years_of_experience</th>\n",
       "    </tr>\n",
       "  </thead>\n",
       "  <tbody>\n",
       "    <tr>\n",
       "      <th>0</th>\n",
       "      <td>atrgxnnt xzaxv</td>\n",
       "      <td>2016.0</td>\n",
       "      <td>1100000.0</td>\n",
       "      <td>other</td>\n",
       "      <td>2020.0</td>\n",
       "      <td>6.0</td>\n",
       "    </tr>\n",
       "    <tr>\n",
       "      <th>1</th>\n",
       "      <td>qtrxvzwt xzegwgbb rxbxnta</td>\n",
       "      <td>2018.0</td>\n",
       "      <td>449999.0</td>\n",
       "      <td>fullstack engineer</td>\n",
       "      <td>2019.0</td>\n",
       "      <td>4.0</td>\n",
       "    </tr>\n",
       "  </tbody>\n",
       "</table>\n",
       "</div>"
      ],
      "text/plain": [
       "                company_hash  orgyear        ctc        job_position  \\\n",
       "0             atrgxnnt xzaxv   2016.0  1100000.0               other   \n",
       "1  qtrxvzwt xzegwgbb rxbxnta   2018.0   449999.0  fullstack engineer   \n",
       "\n",
       "   ctc_updated_year  years_of_experience  \n",
       "0            2020.0                  6.0  \n",
       "1            2019.0                  4.0  "
      ]
     },
     "execution_count": 34,
     "metadata": {},
     "output_type": "execute_result"
    }
   ],
   "source": [
    "df.head(2)"
   ]
  },
  {
   "cell_type": "code",
   "execution_count": 36,
   "id": "53ed6f0f",
   "metadata": {
    "scrolled": true
   },
   "outputs": [
    {
     "data": {
      "image/png": "[encoded data removed]",
      "text/plain": [
       "<Figure size 640x480 with 1 Axes>"
      ]
     },
     "metadata": {},
     "output_type": "display_data"
    }
   ],
   "source": [
    "import matplotlib.pyplot as plt\n",
    "plt.plot(df['ctc'], df['years_of_experience'], '.')\n",
    "plt.xlabel('Year of Experience')\n",
    "plt.ylabel('CTC')\n",
    "plt.show()"
   ]
  },
  {
   "cell_type": "markdown",
   "id": "e5e55d80",
   "metadata": {},
   "source": [
    "Since these are not making much sense ,lets group based on Manual Clustering."
   ]
  },
  {
   "cell_type": "markdown",
   "id": "bf29ea88",
   "metadata": {
    "id": "p_-4etQzlZoR"
   },
   "source": [
    "---\n",
    "\n",
    "## Manual Clustering based on company, job position and years of experience"
   ]
  },
  {
   "cell_type": "code",
   "execution_count": 39,
   "id": "efefe876",
   "metadata": {
    "id": "a002e6de",
    "scrolled": true
   },
   "outputs": [
    {
     "data": {
      "text/html": [
       "<div>\n",
       "<style scoped>\n",
       "    .dataframe tbody tr th:only-of-type {\n",
       "        vertical-align: middle;\n",
       "    }\n",
       "\n",
       "    .dataframe tbody tr th {\n",
       "        vertical-align: top;\n",
       "    }\n",
       "\n",
       "    .dataframe thead th {\n",
       "        text-align: right;\n",
       "    }\n",
       "</style>\n",
       "<table border=\"1\" class=\"dataframe\">\n",
       "  <thead>\n",
       "    <tr style=\"text-align: right;\">\n",
       "      <th></th>\n",
       "      <th></th>\n",
       "      <th></th>\n",
       "      <th>count</th>\n",
       "      <th>mean</th>\n",
       "      <th>std</th>\n",
       "      <th>min</th>\n",
       "      <th>25%</th>\n",
       "      <th>50%</th>\n",
       "      <th>75%</th>\n",
       "      <th>max</th>\n",
       "    </tr>\n",
       "    <tr>\n",
       "      <th>years_of_experience</th>\n",
       "      <th>job_position</th>\n",
       "      <th>company_hash</th>\n",
       "      <th></th>\n",
       "      <th></th>\n",
       "      <th></th>\n",
       "      <th></th>\n",
       "      <th></th>\n",
       "      <th></th>\n",
       "      <th></th>\n",
       "      <th></th>\n",
       "    </tr>\n",
       "  </thead>\n",
       "  <tbody>\n",
       "    <tr>\n",
       "      <th rowspan=\"5\" valign=\"top\">1.0</th>\n",
       "      <th rowspan=\"5\" valign=\"top\">Others</th>\n",
       "      <th>Others</th>\n",
       "      <td>88.0</td>\n",
       "      <td>1.542586e+06</td>\n",
       "      <td>2.134815e+06</td>\n",
       "      <td>38000.0</td>\n",
       "      <td>357500.0</td>\n",
       "      <td>815000.0</td>\n",
       "      <td>1640000.0</td>\n",
       "      <td>12600000.0</td>\n",
       "    </tr>\n",
       "    <tr>\n",
       "      <th>a ntwyzgrgsxto</th>\n",
       "      <td>1.0</td>\n",
       "      <td>3.500000e+05</td>\n",
       "      <td>NaN</td>\n",
       "      <td>350000.0</td>\n",
       "      <td>350000.0</td>\n",
       "      <td>350000.0</td>\n",
       "      <td>350000.0</td>\n",
       "      <td>350000.0</td>\n",
       "    </tr>\n",
       "    <tr>\n",
       "      <th>adw ntwyzgrgsj</th>\n",
       "      <td>2.0</td>\n",
       "      <td>2.200000e+05</td>\n",
       "      <td>1.979899e+05</td>\n",
       "      <td>80000.0</td>\n",
       "      <td>150000.0</td>\n",
       "      <td>220000.0</td>\n",
       "      <td>290000.0</td>\n",
       "      <td>360000.0</td>\n",
       "    </tr>\n",
       "    <tr>\n",
       "      <th>agzn fgqp xz vzj gqsvzxkvnxgz</th>\n",
       "      <td>1.0</td>\n",
       "      <td>1.600000e+06</td>\n",
       "      <td>NaN</td>\n",
       "      <td>1600000.0</td>\n",
       "      <td>1600000.0</td>\n",
       "      <td>1600000.0</td>\n",
       "      <td>1600000.0</td>\n",
       "      <td>1600000.0</td>\n",
       "    </tr>\n",
       "    <tr>\n",
       "      <th>athnowyt ntrtpgb</th>\n",
       "      <td>1.0</td>\n",
       "      <td>2.800000e+06</td>\n",
       "      <td>NaN</td>\n",
       "      <td>2800000.0</td>\n",
       "      <td>2800000.0</td>\n",
       "      <td>2800000.0</td>\n",
       "      <td>2800000.0</td>\n",
       "      <td>2800000.0</td>\n",
       "    </tr>\n",
       "    <tr>\n",
       "      <th>...</th>\n",
       "      <th>...</th>\n",
       "      <th>...</th>\n",
       "      <td>...</td>\n",
       "      <td>...</td>\n",
       "      <td>...</td>\n",
       "      <td>...</td>\n",
       "      <td>...</td>\n",
       "      <td>...</td>\n",
       "      <td>...</td>\n",
       "      <td>...</td>\n",
       "    </tr>\n",
       "    <tr>\n",
       "      <th rowspan=\"5\" valign=\"top\">21.0</th>\n",
       "      <th>technical consulting</th>\n",
       "      <th>ytfrtnn uvwpvqa tzntquqxot</th>\n",
       "      <td>1.0</td>\n",
       "      <td>2.500000e+06</td>\n",
       "      <td>NaN</td>\n",
       "      <td>2500000.0</td>\n",
       "      <td>2500000.0</td>\n",
       "      <td>2500000.0</td>\n",
       "      <td>2500000.0</td>\n",
       "      <td>2500000.0</td>\n",
       "    </tr>\n",
       "    <tr>\n",
       "      <th>technical program program</th>\n",
       "      <th>vwr axsxnvr</th>\n",
       "      <td>1.0</td>\n",
       "      <td>2.300000e+06</td>\n",
       "      <td>NaN</td>\n",
       "      <td>2300000.0</td>\n",
       "      <td>2300000.0</td>\n",
       "      <td>2300000.0</td>\n",
       "      <td>2300000.0</td>\n",
       "      <td>2300000.0</td>\n",
       "    </tr>\n",
       "    <tr>\n",
       "      <th>technology architect</th>\n",
       "      <th>vwwtznhqt</th>\n",
       "      <td>1.0</td>\n",
       "      <td>4.200000e+06</td>\n",
       "      <td>NaN</td>\n",
       "      <td>4200000.0</td>\n",
       "      <td>4200000.0</td>\n",
       "      <td>4200000.0</td>\n",
       "      <td>4200000.0</td>\n",
       "      <td>4200000.0</td>\n",
       "    </tr>\n",
       "    <tr>\n",
       "      <th>trainer</th>\n",
       "      <th>Others</th>\n",
       "      <td>1.0</td>\n",
       "      <td>4.000000e+05</td>\n",
       "      <td>NaN</td>\n",
       "      <td>400000.0</td>\n",
       "      <td>400000.0</td>\n",
       "      <td>400000.0</td>\n",
       "      <td>400000.0</td>\n",
       "      <td>400000.0</td>\n",
       "    </tr>\n",
       "    <tr>\n",
       "      <th>zomato</th>\n",
       "      <th>kgbvng</th>\n",
       "      <td>1.0</td>\n",
       "      <td>1.000000e+05</td>\n",
       "      <td>NaN</td>\n",
       "      <td>100000.0</td>\n",
       "      <td>100000.0</td>\n",
       "      <td>100000.0</td>\n",
       "      <td>100000.0</td>\n",
       "      <td>100000.0</td>\n",
       "    </tr>\n",
       "  </tbody>\n",
       "</table>\n",
       "<p>66520 rows × 8 columns</p>\n",
       "</div>"
      ],
      "text/plain": [
       "                                                                             count  \\\n",
       "years_of_experience job_position              company_hash                           \n",
       "1.0                 Others                    Others                          88.0   \n",
       "                                              a ntwyzgrgsxto                   1.0   \n",
       "                                              adw ntwyzgrgsj                   2.0   \n",
       "                                              agzn fgqp xz vzj gqsvzxkvnxgz    1.0   \n",
       "                                              athnowyt ntrtpgb                 1.0   \n",
       "...                                                                            ...   \n",
       "21.0                technical consulting      ytfrtnn uvwpvqa tzntquqxot       1.0   \n",
       "                    technical program program vwr axsxnvr                      1.0   \n",
       "                    technology architect      vwwtznhqt                        1.0   \n",
       "                    trainer                   Others                           1.0   \n",
       "                    zomato                    kgbvng                           1.0   \n",
       "\n",
       "                                                                                     mean  \\\n",
       "years_of_experience job_position              company_hash                                  \n",
       "1.0                 Others                    Others                         1.542586e+06   \n",
       "                                              a ntwyzgrgsxto                 3.500000e+05   \n",
       "                                              adw ntwyzgrgsj                 2.200000e+05   \n",
       "                                              agzn fgqp xz vzj gqsvzxkvnxgz  1.600000e+06   \n",
       "                                              athnowyt ntrtpgb               2.800000e+06   \n",
       "...                                                                                   ...   \n",
       "21.0                technical consulting      ytfrtnn uvwpvqa tzntquqxot     2.500000e+06   \n",
       "                    technical program program vwr axsxnvr                    2.300000e+06   \n",
       "                    technology architect      vwwtznhqt                      4.200000e+06   \n",
       "                    trainer                   Others                         4.000000e+05   \n",
       "                    zomato                    kgbvng                         1.000000e+05   \n",
       "\n",
       "                                                                                      std  \\\n",
       "years_of_experience job_position              company_hash                                  \n",
       "1.0                 Others                    Others                         2.134815e+06   \n",
       "                                              a ntwyzgrgsxto                          NaN   \n",
       "                                              adw ntwyzgrgsj                 1.979899e+05   \n",
       "                                              agzn fgqp xz vzj gqsvzxkvnxgz           NaN   \n",
       "                                              athnowyt ntrtpgb                        NaN   \n",
       "...                                                                                   ...   \n",
       "21.0                technical consulting      ytfrtnn uvwpvqa tzntquqxot              NaN   \n",
       "                    technical program program vwr axsxnvr                             NaN   \n",
       "                    technology architect      vwwtznhqt                               NaN   \n",
       "                    trainer                   Others                                  NaN   \n",
       "                    zomato                    kgbvng                                  NaN   \n",
       "\n",
       "                                                                                   min  \\\n",
       "years_of_experience job_position              company_hash                               \n",
       "1.0                 Others                    Others                           38000.0   \n",
       "                                              a ntwyzgrgsxto                  350000.0   \n",
       "                                              adw ntwyzgrgsj                   80000.0   \n",
       "                                              agzn fgqp xz vzj gqsvzxkvnxgz  1600000.0   \n",
       "                                              athnowyt ntrtpgb               2800000.0   \n",
       "...                                                                                ...   \n",
       "21.0                technical consulting      ytfrtnn uvwpvqa tzntquqxot     2500000.0   \n",
       "                    technical program program vwr axsxnvr                    2300000.0   \n",
       "                    technology architect      vwwtznhqt                      4200000.0   \n",
       "                    trainer                   Others                          400000.0   \n",
       "                    zomato                    kgbvng                          100000.0   \n",
       "\n",
       "                                                                                   25%  \\\n",
       "years_of_experience job_position              company_hash                               \n",
       "1.0                 Others                    Others                          357500.0   \n",
       "                                              a ntwyzgrgsxto                  350000.0   \n",
       "                                              adw ntwyzgrgsj                  150000.0   \n",
       "                                              agzn fgqp xz vzj gqsvzxkvnxgz  1600000.0   \n",
       "                                              athnowyt ntrtpgb               2800000.0   \n",
       "...                                                                                ...   \n",
       "21.0                technical consulting      ytfrtnn uvwpvqa tzntquqxot     2500000.0   \n",
       "                    technical program program vwr axsxnvr                    2300000.0   \n",
       "                    technology architect      vwwtznhqt                      4200000.0   \n",
       "                    trainer                   Others                          400000.0   \n",
       "                    zomato                    kgbvng                          100000.0   \n",
       "\n",
       "                                                                                   50%  \\\n",
       "years_of_experience job_position              company_hash                               \n",
       "1.0                 Others                    Others                          815000.0   \n",
       "                                              a ntwyzgrgsxto                  350000.0   \n",
       "                                              adw ntwyzgrgsj                  220000.0   \n",
       "                                              agzn fgqp xz vzj gqsvzxkvnxgz  1600000.0   \n",
       "                                              athnowyt ntrtpgb               2800000.0   \n",
       "...                                                                                ...   \n",
       "21.0                technical consulting      ytfrtnn uvwpvqa tzntquqxot     2500000.0   \n",
       "                    technical program program vwr axsxnvr                    2300000.0   \n",
       "                    technology architect      vwwtznhqt                      4200000.0   \n",
       "                    trainer                   Others                          400000.0   \n",
       "                    zomato                    kgbvng                          100000.0   \n",
       "\n",
       "                                                                                   75%  \\\n",
       "years_of_experience job_position              company_hash                               \n",
       "1.0                 Others                    Others                         1640000.0   \n",
       "                                              a ntwyzgrgsxto                  350000.0   \n",
       "                                              adw ntwyzgrgsj                  290000.0   \n",
       "                                              agzn fgqp xz vzj gqsvzxkvnxgz  1600000.0   \n",
       "                                              athnowyt ntrtpgb               2800000.0   \n",
       "...                                                                                ...   \n",
       "21.0                technical consulting      ytfrtnn uvwpvqa tzntquqxot     2500000.0   \n",
       "                    technical program program vwr axsxnvr                    2300000.0   \n",
       "                    technology architect      vwwtznhqt                      4200000.0   \n",
       "                    trainer                   Others                          400000.0   \n",
       "                    zomato                    kgbvng                          100000.0   \n",
       "\n",
       "                                                                                    max  \n",
       "years_of_experience job_position              company_hash                               \n",
       "1.0                 Others                    Others                         12600000.0  \n",
       "                                              a ntwyzgrgsxto                   350000.0  \n",
       "                                              adw ntwyzgrgsj                   360000.0  \n",
       "                                              agzn fgqp xz vzj gqsvzxkvnxgz   1600000.0  \n",
       "                                              athnowyt ntrtpgb                2800000.0  \n",
       "...                                                                                 ...  \n",
       "21.0                technical consulting      ytfrtnn uvwpvqa tzntquqxot      2500000.0  \n",
       "                    technical program program vwr axsxnvr                     2300000.0  \n",
       "                    technology architect      vwwtznhqt                       4200000.0  \n",
       "                    trainer                   Others                           400000.0  \n",
       "                    zomato                    kgbvng                           100000.0  \n",
       "\n",
       "[66520 rows x 8 columns]"
      ]
     },
     "execution_count": 39,
     "metadata": {},
     "output_type": "execute_result"
    }
   ],
   "source": [
    "# Grouping years_of_experience','job_position','company_hash column\n",
    "grouped_c_j_y = df.groupby(['years_of_experience','job_position','company_hash'])['ctc'].describe()\n",
    "grouped_c_j_y"
   ]
  },
  {
   "cell_type": "code",
   "execution_count": 40,
   "id": "dede649e",
   "metadata": {
    "id": "14486789"
   },
   "outputs": [
    {
     "data": {
      "text/html": [
       "<div>\n",
       "<style scoped>\n",
       "    .dataframe tbody tr th:only-of-type {\n",
       "        vertical-align: middle;\n",
       "    }\n",
       "\n",
       "    .dataframe tbody tr th {\n",
       "        vertical-align: top;\n",
       "    }\n",
       "\n",
       "    .dataframe thead th {\n",
       "        text-align: right;\n",
       "    }\n",
       "</style>\n",
       "<table border=\"1\" class=\"dataframe\">\n",
       "  <thead>\n",
       "    <tr style=\"text-align: right;\">\n",
       "      <th></th>\n",
       "      <th>company_hash</th>\n",
       "      <th>orgyear</th>\n",
       "      <th>ctc</th>\n",
       "      <th>job_position</th>\n",
       "      <th>ctc_updated_year</th>\n",
       "      <th>years_of_experience</th>\n",
       "      <th>count</th>\n",
       "      <th>mean</th>\n",
       "      <th>std</th>\n",
       "      <th>min</th>\n",
       "      <th>25%</th>\n",
       "      <th>50%</th>\n",
       "      <th>75%</th>\n",
       "      <th>max</th>\n",
       "    </tr>\n",
       "  </thead>\n",
       "  <tbody>\n",
       "    <tr>\n",
       "      <th>0</th>\n",
       "      <td>atrgxnnt xzaxv</td>\n",
       "      <td>2016.0</td>\n",
       "      <td>1100000.0</td>\n",
       "      <td>other</td>\n",
       "      <td>2020.0</td>\n",
       "      <td>6.0</td>\n",
       "      <td>1.0</td>\n",
       "      <td>1.100000e+06</td>\n",
       "      <td>NaN</td>\n",
       "      <td>1100000.0</td>\n",
       "      <td>1100000.0</td>\n",
       "      <td>1100000.0</td>\n",
       "      <td>1100000.0</td>\n",
       "      <td>1100000.0</td>\n",
       "    </tr>\n",
       "    <tr>\n",
       "      <th>1</th>\n",
       "      <td>qtrxvzwt xzegwgbb rxbxnta</td>\n",
       "      <td>2018.0</td>\n",
       "      <td>449999.0</td>\n",
       "      <td>fullstack engineer</td>\n",
       "      <td>2019.0</td>\n",
       "      <td>4.0</td>\n",
       "      <td>7.0</td>\n",
       "      <td>7.742856e+05</td>\n",
       "      <td>2.509223e+05</td>\n",
       "      <td>449999.0</td>\n",
       "      <td>610000.0</td>\n",
       "      <td>750000.0</td>\n",
       "      <td>900000.0</td>\n",
       "      <td>1200000.0</td>\n",
       "    </tr>\n",
       "    <tr>\n",
       "      <th>2</th>\n",
       "      <td>Others</td>\n",
       "      <td>2015.0</td>\n",
       "      <td>2000000.0</td>\n",
       "      <td>backend engineer</td>\n",
       "      <td>2020.0</td>\n",
       "      <td>7.0</td>\n",
       "      <td>445.0</td>\n",
       "      <td>1.359734e+06</td>\n",
       "      <td>1.765297e+06</td>\n",
       "      <td>38000.0</td>\n",
       "      <td>380000.0</td>\n",
       "      <td>900000.0</td>\n",
       "      <td>1639999.0</td>\n",
       "      <td>12600000.0</td>\n",
       "    </tr>\n",
       "    <tr>\n",
       "      <th>3</th>\n",
       "      <td>ngpgutaxv</td>\n",
       "      <td>2017.0</td>\n",
       "      <td>700000.0</td>\n",
       "      <td>backend engineer</td>\n",
       "      <td>2019.0</td>\n",
       "      <td>5.0</td>\n",
       "      <td>7.0</td>\n",
       "      <td>1.158571e+06</td>\n",
       "      <td>4.047810e+05</td>\n",
       "      <td>700000.0</td>\n",
       "      <td>825000.0</td>\n",
       "      <td>1200000.0</td>\n",
       "      <td>1405000.0</td>\n",
       "      <td>1750000.0</td>\n",
       "    </tr>\n",
       "    <tr>\n",
       "      <th>4</th>\n",
       "      <td>qxen sqghu</td>\n",
       "      <td>2017.0</td>\n",
       "      <td>1400000.0</td>\n",
       "      <td>fullstack engineer</td>\n",
       "      <td>2019.0</td>\n",
       "      <td>5.0</td>\n",
       "      <td>1.0</td>\n",
       "      <td>1.400000e+06</td>\n",
       "      <td>NaN</td>\n",
       "      <td>1400000.0</td>\n",
       "      <td>1400000.0</td>\n",
       "      <td>1400000.0</td>\n",
       "      <td>1400000.0</td>\n",
       "      <td>1400000.0</td>\n",
       "    </tr>\n",
       "    <tr>\n",
       "      <th>...</th>\n",
       "      <td>...</td>\n",
       "      <td>...</td>\n",
       "      <td>...</td>\n",
       "      <td>...</td>\n",
       "      <td>...</td>\n",
       "      <td>...</td>\n",
       "      <td>...</td>\n",
       "      <td>...</td>\n",
       "      <td>...</td>\n",
       "      <td>...</td>\n",
       "      <td>...</td>\n",
       "      <td>...</td>\n",
       "      <td>...</td>\n",
       "      <td>...</td>\n",
       "    </tr>\n",
       "    <tr>\n",
       "      <th>165615</th>\n",
       "      <td>vuurt xzw</td>\n",
       "      <td>2008.0</td>\n",
       "      <td>220000.0</td>\n",
       "      <td>Others</td>\n",
       "      <td>2019.0</td>\n",
       "      <td>14.0</td>\n",
       "      <td>1.0</td>\n",
       "      <td>2.200000e+05</td>\n",
       "      <td>NaN</td>\n",
       "      <td>220000.0</td>\n",
       "      <td>220000.0</td>\n",
       "      <td>220000.0</td>\n",
       "      <td>220000.0</td>\n",
       "      <td>220000.0</td>\n",
       "    </tr>\n",
       "    <tr>\n",
       "      <th>165616</th>\n",
       "      <td>husqvawgb</td>\n",
       "      <td>2017.0</td>\n",
       "      <td>500000.0</td>\n",
       "      <td>Others</td>\n",
       "      <td>2020.0</td>\n",
       "      <td>5.0</td>\n",
       "      <td>4.0</td>\n",
       "      <td>1.202500e+06</td>\n",
       "      <td>4.719022e+05</td>\n",
       "      <td>500000.0</td>\n",
       "      <td>1145000.0</td>\n",
       "      <td>1405000.0</td>\n",
       "      <td>1462500.0</td>\n",
       "      <td>1500000.0</td>\n",
       "    </tr>\n",
       "    <tr>\n",
       "      <th>165617</th>\n",
       "      <td>vwwgrxnt</td>\n",
       "      <td>2021.0</td>\n",
       "      <td>700000.0</td>\n",
       "      <td>Others</td>\n",
       "      <td>2021.0</td>\n",
       "      <td>1.0</td>\n",
       "      <td>3.0</td>\n",
       "      <td>6.666667e+05</td>\n",
       "      <td>3.511885e+05</td>\n",
       "      <td>300000.0</td>\n",
       "      <td>500000.0</td>\n",
       "      <td>700000.0</td>\n",
       "      <td>850000.0</td>\n",
       "      <td>1000000.0</td>\n",
       "    </tr>\n",
       "    <tr>\n",
       "      <th>165618</th>\n",
       "      <td>zgn vuurxwvmrt</td>\n",
       "      <td>2019.0</td>\n",
       "      <td>5100000.0</td>\n",
       "      <td>Others</td>\n",
       "      <td>2019.0</td>\n",
       "      <td>3.0</td>\n",
       "      <td>115.0</td>\n",
       "      <td>1.594120e+06</td>\n",
       "      <td>2.275980e+06</td>\n",
       "      <td>38000.0</td>\n",
       "      <td>390000.0</td>\n",
       "      <td>730000.0</td>\n",
       "      <td>1683500.0</td>\n",
       "      <td>12600000.0</td>\n",
       "    </tr>\n",
       "    <tr>\n",
       "      <th>165619</th>\n",
       "      <td>bgqsvz onvzrtj</td>\n",
       "      <td>2014.0</td>\n",
       "      <td>1240000.0</td>\n",
       "      <td>Others</td>\n",
       "      <td>2016.0</td>\n",
       "      <td>8.0</td>\n",
       "      <td>9.0</td>\n",
       "      <td>1.693333e+06</td>\n",
       "      <td>3.484250e+05</td>\n",
       "      <td>1200000.0</td>\n",
       "      <td>1500000.0</td>\n",
       "      <td>1700000.0</td>\n",
       "      <td>1900000.0</td>\n",
       "      <td>2200000.0</td>\n",
       "    </tr>\n",
       "  </tbody>\n",
       "</table>\n",
       "<p>165620 rows × 14 columns</p>\n",
       "</div>"
      ],
      "text/plain": [
       "                     company_hash  orgyear        ctc        job_position  \\\n",
       "0                  atrgxnnt xzaxv   2016.0  1100000.0               other   \n",
       "1       qtrxvzwt xzegwgbb rxbxnta   2018.0   449999.0  fullstack engineer   \n",
       "2                          Others   2015.0  2000000.0    backend engineer   \n",
       "3                       ngpgutaxv   2017.0   700000.0    backend engineer   \n",
       "4                      qxen sqghu   2017.0  1400000.0  fullstack engineer   \n",
       "...                           ...      ...        ...                 ...   \n",
       "165615                  vuurt xzw   2008.0   220000.0              Others   \n",
       "165616                  husqvawgb   2017.0   500000.0              Others   \n",
       "165617                   vwwgrxnt   2021.0   700000.0              Others   \n",
       "165618             zgn vuurxwvmrt   2019.0  5100000.0              Others   \n",
       "165619             bgqsvz onvzrtj   2014.0  1240000.0              Others   \n",
       "\n",
       "        ctc_updated_year  years_of_experience  count          mean  \\\n",
       "0                 2020.0                  6.0    1.0  1.100000e+06   \n",
       "1                 2019.0                  4.0    7.0  7.742856e+05   \n",
       "2                 2020.0                  7.0  445.0  1.359734e+06   \n",
       "3                 2019.0                  5.0    7.0  1.158571e+06   \n",
       "4                 2019.0                  5.0    1.0  1.400000e+06   \n",
       "...                  ...                  ...    ...           ...   \n",
       "165615            2019.0                 14.0    1.0  2.200000e+05   \n",
       "165616            2020.0                  5.0    4.0  1.202500e+06   \n",
       "165617            2021.0                  1.0    3.0  6.666667e+05   \n",
       "165618            2019.0                  3.0  115.0  1.594120e+06   \n",
       "165619            2016.0                  8.0    9.0  1.693333e+06   \n",
       "\n",
       "                 std        min        25%        50%        75%         max  \n",
       "0                NaN  1100000.0  1100000.0  1100000.0  1100000.0   1100000.0  \n",
       "1       2.509223e+05   449999.0   610000.0   750000.0   900000.0   1200000.0  \n",
       "2       1.765297e+06    38000.0   380000.0   900000.0  1639999.0  12600000.0  \n",
       "3       4.047810e+05   700000.0   825000.0  1200000.0  1405000.0   1750000.0  \n",
       "4                NaN  1400000.0  1400000.0  1400000.0  1400000.0   1400000.0  \n",
       "...              ...        ...        ...        ...        ...         ...  \n",
       "165615           NaN   220000.0   220000.0   220000.0   220000.0    220000.0  \n",
       "165616  4.719022e+05   500000.0  1145000.0  1405000.0  1462500.0   1500000.0  \n",
       "165617  3.511885e+05   300000.0   500000.0   700000.0   850000.0   1000000.0  \n",
       "165618  2.275980e+06    38000.0   390000.0   730000.0  1683500.0  12600000.0  \n",
       "165619  3.484250e+05  1200000.0  1500000.0  1700000.0  1900000.0   2200000.0  \n",
       "\n",
       "[165620 rows x 14 columns]"
      ]
     },
     "execution_count": 40,
     "metadata": {},
     "output_type": "execute_result"
    }
   ],
   "source": [
    "# Combining above created group  with original df.\n",
    "df_cjy=df.merge(grouped_c_j_y, on=['years_of_experience','job_position','company_hash'], how='left')\n",
    "df_cjy"
   ]
  },
  {
   "cell_type": "markdown",
   "id": "dd381f7d",
   "metadata": {
    "id": "07835aba"
   },
   "source": [
    "Creating Designation basis on the salary they are getting in their respective company"
   ]
  },
  {
   "cell_type": "code",
   "execution_count": 41,
   "id": "941be9bb",
   "metadata": {
    "id": "e8bd309f"
   },
   "outputs": [],
   "source": [
    "def segment(a,b_50,b_75):\n",
    "    if a<b_50:\n",
    "        return 3\n",
    "    elif a>=b_50 and a<=b_75:\n",
    "        return 2\n",
    "    \n",
    "    elif a>=b_75:\n",
    "        return 1\n",
    "        "
   ]
  },
  {
   "cell_type": "code",
   "execution_count": 42,
   "id": "b0af4a3e",
   "metadata": {
    "id": "02d6a966"
   },
   "outputs": [
    {
     "data": {
      "text/html": [
       "<div>\n",
       "<style scoped>\n",
       "    .dataframe tbody tr th:only-of-type {\n",
       "        vertical-align: middle;\n",
       "    }\n",
       "\n",
       "    .dataframe tbody tr th {\n",
       "        vertical-align: top;\n",
       "    }\n",
       "\n",
       "    .dataframe thead th {\n",
       "        text-align: right;\n",
       "    }\n",
       "</style>\n",
       "<table border=\"1\" class=\"dataframe\">\n",
       "  <thead>\n",
       "    <tr style=\"text-align: right;\">\n",
       "      <th></th>\n",
       "      <th>company_hash</th>\n",
       "      <th>orgyear</th>\n",
       "      <th>ctc</th>\n",
       "      <th>job_position</th>\n",
       "      <th>ctc_updated_year</th>\n",
       "      <th>years_of_experience</th>\n",
       "      <th>count</th>\n",
       "      <th>mean</th>\n",
       "      <th>std</th>\n",
       "      <th>min</th>\n",
       "      <th>25%</th>\n",
       "      <th>50%</th>\n",
       "      <th>75%</th>\n",
       "      <th>max</th>\n",
       "      <th>designation</th>\n",
       "    </tr>\n",
       "  </thead>\n",
       "  <tbody>\n",
       "    <tr>\n",
       "      <th>0</th>\n",
       "      <td>atrgxnnt xzaxv</td>\n",
       "      <td>2016.0</td>\n",
       "      <td>1100000.0</td>\n",
       "      <td>other</td>\n",
       "      <td>2020.0</td>\n",
       "      <td>6.0</td>\n",
       "      <td>1.0</td>\n",
       "      <td>1.100000e+06</td>\n",
       "      <td>NaN</td>\n",
       "      <td>1100000.0</td>\n",
       "      <td>1100000.0</td>\n",
       "      <td>1100000.0</td>\n",
       "      <td>1100000.0</td>\n",
       "      <td>1100000.0</td>\n",
       "      <td>2</td>\n",
       "    </tr>\n",
       "    <tr>\n",
       "      <th>1</th>\n",
       "      <td>qtrxvzwt xzegwgbb rxbxnta</td>\n",
       "      <td>2018.0</td>\n",
       "      <td>449999.0</td>\n",
       "      <td>fullstack engineer</td>\n",
       "      <td>2019.0</td>\n",
       "      <td>4.0</td>\n",
       "      <td>7.0</td>\n",
       "      <td>7.742856e+05</td>\n",
       "      <td>250922.32435</td>\n",
       "      <td>449999.0</td>\n",
       "      <td>610000.0</td>\n",
       "      <td>750000.0</td>\n",
       "      <td>900000.0</td>\n",
       "      <td>1200000.0</td>\n",
       "      <td>3</td>\n",
       "    </tr>\n",
       "  </tbody>\n",
       "</table>\n",
       "</div>"
      ],
      "text/plain": [
       "                company_hash  orgyear        ctc        job_position  \\\n",
       "0             atrgxnnt xzaxv   2016.0  1100000.0               other   \n",
       "1  qtrxvzwt xzegwgbb rxbxnta   2018.0   449999.0  fullstack engineer   \n",
       "\n",
       "   ctc_updated_year  years_of_experience  count          mean           std  \\\n",
       "0            2020.0                  6.0    1.0  1.100000e+06           NaN   \n",
       "1            2019.0                  4.0    7.0  7.742856e+05  250922.32435   \n",
       "\n",
       "         min        25%        50%        75%        max  designation  \n",
       "0  1100000.0  1100000.0  1100000.0  1100000.0  1100000.0            2  \n",
       "1   449999.0   610000.0   750000.0   900000.0  1200000.0            3  "
      ]
     },
     "execution_count": 42,
     "metadata": {},
     "output_type": "execute_result"
    }
   ],
   "source": [
    "df_cjy['designation'] =df_cjy.apply(lambda x: segment(x['ctc'],x['50%'],x['75%']),axis=1)\n",
    "df_cjy.head(2)"
   ]
  },
  {
   "cell_type": "markdown",
   "id": "16ffd15c",
   "metadata": {},
   "source": [
    "Now designation column is present, it indicated CTC order as : Designation 1 > Designation 2 > Designatio 3"
   ]
  },
  {
   "cell_type": "code",
   "execution_count": 43,
   "id": "befa9332",
   "metadata": {
    "colab": {
     "base_uri": "https://localhost:8080/"
    },
    "id": "7bfd063a",
    "outputId": "296e2172-079a-4735-ae25-dec9a90a31c6",
    "scrolled": true
   },
   "outputs": [
    {
     "data": {
      "text/plain": [
       "2    0.453242\n",
       "3    0.333450\n",
       "1    0.213308\n",
       "Name: designation, dtype: float64"
      ]
     },
     "execution_count": 43,
     "metadata": {},
     "output_type": "execute_result"
    }
   ],
   "source": [
    "df_cjy.designation.value_counts(normalize=True)"
   ]
  },
  {
   "cell_type": "markdown",
   "id": "a811fb96",
   "metadata": {
    "id": "fQ7HBCH6jWjg"
   },
   "source": [
    "## Manual Clustering based on company and job position "
   ]
  },
  {
   "cell_type": "code",
   "execution_count": 44,
   "id": "e315afda",
   "metadata": {
    "id": "4TZFASSDggiC"
   },
   "outputs": [
    {
     "data": {
      "text/html": [
       "<div>\n",
       "<style scoped>\n",
       "    .dataframe tbody tr th:only-of-type {\n",
       "        vertical-align: middle;\n",
       "    }\n",
       "\n",
       "    .dataframe tbody tr th {\n",
       "        vertical-align: top;\n",
       "    }\n",
       "\n",
       "    .dataframe thead th {\n",
       "        text-align: right;\n",
       "    }\n",
       "</style>\n",
       "<table border=\"1\" class=\"dataframe\">\n",
       "  <thead>\n",
       "    <tr style=\"text-align: right;\">\n",
       "      <th></th>\n",
       "      <th></th>\n",
       "      <th>count</th>\n",
       "      <th>mean</th>\n",
       "      <th>std</th>\n",
       "      <th>min</th>\n",
       "      <th>25%</th>\n",
       "      <th>50%</th>\n",
       "      <th>75%</th>\n",
       "      <th>max</th>\n",
       "    </tr>\n",
       "    <tr>\n",
       "      <th>job_position</th>\n",
       "      <th>company_hash</th>\n",
       "      <th></th>\n",
       "      <th></th>\n",
       "      <th></th>\n",
       "      <th></th>\n",
       "      <th></th>\n",
       "      <th></th>\n",
       "      <th></th>\n",
       "      <th></th>\n",
       "    </tr>\n",
       "  </thead>\n",
       "  <tbody>\n",
       "    <tr>\n",
       "      <th rowspan=\"5\" valign=\"top\">Others</th>\n",
       "      <th>Others</th>\n",
       "      <td>3362.0</td>\n",
       "      <td>1.461565e+06</td>\n",
       "      <td>1.783760e+06</td>\n",
       "      <td>38000.0</td>\n",
       "      <td>400000.0</td>\n",
       "      <td>900000.0</td>\n",
       "      <td>1900000.0</td>\n",
       "      <td>12600000.0</td>\n",
       "    </tr>\n",
       "    <tr>\n",
       "      <th>a ntwyzgrgsxto</th>\n",
       "      <td>6.0</td>\n",
       "      <td>1.229167e+06</td>\n",
       "      <td>1.401465e+06</td>\n",
       "      <td>350000.0</td>\n",
       "      <td>518750.0</td>\n",
       "      <td>587500.0</td>\n",
       "      <td>1162500.0</td>\n",
       "      <td>4000000.0</td>\n",
       "    </tr>\n",
       "    <tr>\n",
       "      <th>aaqxctz avnv owxtzwto  vzvrjnxwo ucn rna</th>\n",
       "      <td>1.0</td>\n",
       "      <td>5.000000e+05</td>\n",
       "      <td>NaN</td>\n",
       "      <td>500000.0</td>\n",
       "      <td>500000.0</td>\n",
       "      <td>500000.0</td>\n",
       "      <td>500000.0</td>\n",
       "      <td>500000.0</td>\n",
       "    </tr>\n",
       "    <tr>\n",
       "      <th>abwavnv ojontb</th>\n",
       "      <td>1.0</td>\n",
       "      <td>7.000000e+05</td>\n",
       "      <td>NaN</td>\n",
       "      <td>700000.0</td>\n",
       "      <td>700000.0</td>\n",
       "      <td>700000.0</td>\n",
       "      <td>700000.0</td>\n",
       "      <td>700000.0</td>\n",
       "    </tr>\n",
       "    <tr>\n",
       "      <th>adw ntwyzgrgsj</th>\n",
       "      <td>69.0</td>\n",
       "      <td>8.502319e+05</td>\n",
       "      <td>1.036041e+06</td>\n",
       "      <td>80000.0</td>\n",
       "      <td>380000.0</td>\n",
       "      <td>500000.0</td>\n",
       "      <td>1000000.0</td>\n",
       "      <td>8000000.0</td>\n",
       "    </tr>\n",
       "  </tbody>\n",
       "</table>\n",
       "</div>"
      ],
      "text/plain": [
       "                                                        count          mean  \\\n",
       "job_position company_hash                                                     \n",
       "Others       Others                                    3362.0  1.461565e+06   \n",
       "             a ntwyzgrgsxto                               6.0  1.229167e+06   \n",
       "             aaqxctz avnv owxtzwto  vzvrjnxwo ucn rna     1.0  5.000000e+05   \n",
       "             abwavnv ojontb                               1.0  7.000000e+05   \n",
       "             adw ntwyzgrgsj                              69.0  8.502319e+05   \n",
       "\n",
       "                                                                std       min  \\\n",
       "job_position company_hash                                                       \n",
       "Others       Others                                    1.783760e+06   38000.0   \n",
       "             a ntwyzgrgsxto                            1.401465e+06  350000.0   \n",
       "             aaqxctz avnv owxtzwto  vzvrjnxwo ucn rna           NaN  500000.0   \n",
       "             abwavnv ojontb                                     NaN  700000.0   \n",
       "             adw ntwyzgrgsj                            1.036041e+06   80000.0   \n",
       "\n",
       "                                                            25%       50%  \\\n",
       "job_position company_hash                                                   \n",
       "Others       Others                                    400000.0  900000.0   \n",
       "             a ntwyzgrgsxto                            518750.0  587500.0   \n",
       "             aaqxctz avnv owxtzwto  vzvrjnxwo ucn rna  500000.0  500000.0   \n",
       "             abwavnv ojontb                            700000.0  700000.0   \n",
       "             adw ntwyzgrgsj                            380000.0  500000.0   \n",
       "\n",
       "                                                             75%         max  \n",
       "job_position company_hash                                                     \n",
       "Others       Others                                    1900000.0  12600000.0  \n",
       "             a ntwyzgrgsxto                            1162500.0   4000000.0  \n",
       "             aaqxctz avnv owxtzwto  vzvrjnxwo ucn rna   500000.0    500000.0  \n",
       "             abwavnv ojontb                             700000.0    700000.0  \n",
       "             adw ntwyzgrgsj                            1000000.0   8000000.0  "
      ]
     },
     "execution_count": 44,
     "metadata": {},
     "output_type": "execute_result"
    }
   ],
   "source": [
    "grouped_c_j=df.groupby(['job_position','company_hash'])['ctc'].describe()\n",
    "grouped_c_j.head()"
   ]
  },
  {
   "cell_type": "code",
   "execution_count": 45,
   "id": "458e141f",
   "metadata": {
    "id": "bxhYS6Crg8qI"
   },
   "outputs": [
    {
     "data": {
      "text/html": [
       "<div>\n",
       "<style scoped>\n",
       "    .dataframe tbody tr th:only-of-type {\n",
       "        vertical-align: middle;\n",
       "    }\n",
       "\n",
       "    .dataframe tbody tr th {\n",
       "        vertical-align: top;\n",
       "    }\n",
       "\n",
       "    .dataframe thead th {\n",
       "        text-align: right;\n",
       "    }\n",
       "</style>\n",
       "<table border=\"1\" class=\"dataframe\">\n",
       "  <thead>\n",
       "    <tr style=\"text-align: right;\">\n",
       "      <th></th>\n",
       "      <th>company_hash</th>\n",
       "      <th>orgyear</th>\n",
       "      <th>ctc</th>\n",
       "      <th>job_position</th>\n",
       "      <th>ctc_updated_year</th>\n",
       "      <th>years_of_experience</th>\n",
       "      <th>count</th>\n",
       "      <th>mean</th>\n",
       "      <th>std</th>\n",
       "      <th>min</th>\n",
       "      <th>25%</th>\n",
       "      <th>50%</th>\n",
       "      <th>75%</th>\n",
       "      <th>max</th>\n",
       "    </tr>\n",
       "  </thead>\n",
       "  <tbody>\n",
       "    <tr>\n",
       "      <th>0</th>\n",
       "      <td>atrgxnnt xzaxv</td>\n",
       "      <td>2016.0</td>\n",
       "      <td>1100000.0</td>\n",
       "      <td>other</td>\n",
       "      <td>2020.0</td>\n",
       "      <td>6.0</td>\n",
       "      <td>2.0</td>\n",
       "      <td>1085000.00</td>\n",
       "      <td>21213.203436</td>\n",
       "      <td>1070000.0</td>\n",
       "      <td>1077500.0</td>\n",
       "      <td>1085000.0</td>\n",
       "      <td>1092500.0</td>\n",
       "      <td>1100000.0</td>\n",
       "    </tr>\n",
       "    <tr>\n",
       "      <th>1</th>\n",
       "      <td>qtrxvzwt xzegwgbb rxbxnta</td>\n",
       "      <td>2018.0</td>\n",
       "      <td>449999.0</td>\n",
       "      <td>fullstack engineer</td>\n",
       "      <td>2019.0</td>\n",
       "      <td>4.0</td>\n",
       "      <td>25.0</td>\n",
       "      <td>988199.96</td>\n",
       "      <td>487499.789590</td>\n",
       "      <td>300000.0</td>\n",
       "      <td>600000.0</td>\n",
       "      <td>850000.0</td>\n",
       "      <td>1380000.0</td>\n",
       "      <td>2000000.0</td>\n",
       "    </tr>\n",
       "  </tbody>\n",
       "</table>\n",
       "</div>"
      ],
      "text/plain": [
       "                company_hash  orgyear        ctc        job_position  \\\n",
       "0             atrgxnnt xzaxv   2016.0  1100000.0               other   \n",
       "1  qtrxvzwt xzegwgbb rxbxnta   2018.0   449999.0  fullstack engineer   \n",
       "\n",
       "   ctc_updated_year  years_of_experience  count        mean            std  \\\n",
       "0            2020.0                  6.0    2.0  1085000.00   21213.203436   \n",
       "1            2019.0                  4.0   25.0   988199.96  487499.789590   \n",
       "\n",
       "         min        25%        50%        75%        max  \n",
       "0  1070000.0  1077500.0  1085000.0  1092500.0  1100000.0  \n",
       "1   300000.0   600000.0   850000.0  1380000.0  2000000.0  "
      ]
     },
     "execution_count": 45,
     "metadata": {},
     "output_type": "execute_result"
    }
   ],
   "source": [
    "df_cj=df.merge(grouped_c_j, on=['job_position','company_hash'], how='left')\n",
    "df_cj.head(2)"
   ]
  },
  {
   "cell_type": "markdown",
   "id": "bbd33bfa",
   "metadata": {
    "id": "Fgvi7KyWhie9"
   },
   "source": [
    "### Creating Class basis on the salary they are getting in their respective company"
   ]
  },
  {
   "cell_type": "code",
   "execution_count": 46,
   "id": "7615fefb",
   "metadata": {
    "id": "PR-eLhXVhouP"
   },
   "outputs": [
    {
     "data": {
      "text/html": [
       "<div>\n",
       "<style scoped>\n",
       "    .dataframe tbody tr th:only-of-type {\n",
       "        vertical-align: middle;\n",
       "    }\n",
       "\n",
       "    .dataframe tbody tr th {\n",
       "        vertical-align: top;\n",
       "    }\n",
       "\n",
       "    .dataframe thead th {\n",
       "        text-align: right;\n",
       "    }\n",
       "</style>\n",
       "<table border=\"1\" class=\"dataframe\">\n",
       "  <thead>\n",
       "    <tr style=\"text-align: right;\">\n",
       "      <th></th>\n",
       "      <th>company_hash</th>\n",
       "      <th>orgyear</th>\n",
       "      <th>ctc</th>\n",
       "      <th>job_position</th>\n",
       "      <th>ctc_updated_year</th>\n",
       "      <th>years_of_experience</th>\n",
       "      <th>count</th>\n",
       "      <th>mean</th>\n",
       "      <th>std</th>\n",
       "      <th>min</th>\n",
       "      <th>25%</th>\n",
       "      <th>50%</th>\n",
       "      <th>75%</th>\n",
       "      <th>max</th>\n",
       "      <th>classs</th>\n",
       "    </tr>\n",
       "  </thead>\n",
       "  <tbody>\n",
       "    <tr>\n",
       "      <th>0</th>\n",
       "      <td>atrgxnnt xzaxv</td>\n",
       "      <td>2016.0</td>\n",
       "      <td>1100000.0</td>\n",
       "      <td>other</td>\n",
       "      <td>2020.0</td>\n",
       "      <td>6.0</td>\n",
       "      <td>2.0</td>\n",
       "      <td>1085000.00</td>\n",
       "      <td>21213.203436</td>\n",
       "      <td>1070000.0</td>\n",
       "      <td>1077500.0</td>\n",
       "      <td>1085000.0</td>\n",
       "      <td>1092500.0</td>\n",
       "      <td>1100000.0</td>\n",
       "      <td>1</td>\n",
       "    </tr>\n",
       "    <tr>\n",
       "      <th>1</th>\n",
       "      <td>qtrxvzwt xzegwgbb rxbxnta</td>\n",
       "      <td>2018.0</td>\n",
       "      <td>449999.0</td>\n",
       "      <td>fullstack engineer</td>\n",
       "      <td>2019.0</td>\n",
       "      <td>4.0</td>\n",
       "      <td>25.0</td>\n",
       "      <td>988199.96</td>\n",
       "      <td>487499.789590</td>\n",
       "      <td>300000.0</td>\n",
       "      <td>600000.0</td>\n",
       "      <td>850000.0</td>\n",
       "      <td>1380000.0</td>\n",
       "      <td>2000000.0</td>\n",
       "      <td>3</td>\n",
       "    </tr>\n",
       "  </tbody>\n",
       "</table>\n",
       "</div>"
      ],
      "text/plain": [
       "                company_hash  orgyear        ctc        job_position  \\\n",
       "0             atrgxnnt xzaxv   2016.0  1100000.0               other   \n",
       "1  qtrxvzwt xzegwgbb rxbxnta   2018.0   449999.0  fullstack engineer   \n",
       "\n",
       "   ctc_updated_year  years_of_experience  count        mean            std  \\\n",
       "0            2020.0                  6.0    2.0  1085000.00   21213.203436   \n",
       "1            2019.0                  4.0   25.0   988199.96  487499.789590   \n",
       "\n",
       "         min        25%        50%        75%        max  classs  \n",
       "0  1070000.0  1077500.0  1085000.0  1092500.0  1100000.0       1  \n",
       "1   300000.0   600000.0   850000.0  1380000.0  2000000.0       3  "
      ]
     },
     "execution_count": 46,
     "metadata": {},
     "output_type": "execute_result"
    }
   ],
   "source": [
    "df_cj['classs'] = df_cj.apply(lambda x: segment(x['ctc'],x['50%'],x['75%']),axis=1)\n",
    "df_cj.head(2)"
   ]
  },
  {
   "cell_type": "code",
   "execution_count": 47,
   "id": "0b9b9ac8",
   "metadata": {
    "colab": {
     "base_uri": "https://localhost:8080/"
    },
    "id": "DehJC1QThxWK",
    "outputId": "840874e4-9116-40f7-922c-fa7fd758b30d"
   },
   "outputs": [
    {
     "data": {
      "text/plain": [
       "3    0.435008\n",
       "2    0.320493\n",
       "1    0.244499\n",
       "Name: classs, dtype: float64"
      ]
     },
     "execution_count": 47,
     "metadata": {},
     "output_type": "execute_result"
    }
   ],
   "source": [
    "df_cj.classs.value_counts(normalize=True)"
   ]
  },
  {
   "cell_type": "code",
   "execution_count": 48,
   "id": "77613019",
   "metadata": {
    "id": "e5d5bbdd",
    "outputId": "1879a3a6-7254-495f-bb27-6bb205a63e24"
   },
   "outputs": [
    {
     "data": {
      "text/html": [
       "<div>\n",
       "<style scoped>\n",
       "    .dataframe tbody tr th:only-of-type {\n",
       "        vertical-align: middle;\n",
       "    }\n",
       "\n",
       "    .dataframe tbody tr th {\n",
       "        vertical-align: top;\n",
       "    }\n",
       "\n",
       "    .dataframe thead th {\n",
       "        text-align: right;\n",
       "    }\n",
       "</style>\n",
       "<table border=\"1\" class=\"dataframe\">\n",
       "  <thead>\n",
       "    <tr style=\"text-align: right;\">\n",
       "      <th></th>\n",
       "      <th>count</th>\n",
       "      <th>mean</th>\n",
       "      <th>std</th>\n",
       "      <th>min</th>\n",
       "      <th>25%</th>\n",
       "      <th>50%</th>\n",
       "      <th>75%</th>\n",
       "      <th>max</th>\n",
       "    </tr>\n",
       "    <tr>\n",
       "      <th>job_position</th>\n",
       "      <th></th>\n",
       "      <th></th>\n",
       "      <th></th>\n",
       "      <th></th>\n",
       "      <th></th>\n",
       "      <th></th>\n",
       "      <th></th>\n",
       "      <th></th>\n",
       "    </tr>\n",
       "  </thead>\n",
       "  <tbody>\n",
       "    <tr>\n",
       "      <th>backend engineer</th>\n",
       "      <td>9228.0</td>\n",
       "      <td>3.082104e+06</td>\n",
       "      <td>2.315730e+06</td>\n",
       "      <td>50000.0</td>\n",
       "      <td>1700000.0</td>\n",
       "      <td>2400000.0</td>\n",
       "      <td>3700000.0</td>\n",
       "      <td>12600000.0</td>\n",
       "    </tr>\n",
       "    <tr>\n",
       "      <th>Others</th>\n",
       "      <td>9158.0</td>\n",
       "      <td>2.910646e+06</td>\n",
       "      <td>2.348892e+06</td>\n",
       "      <td>50000.0</td>\n",
       "      <td>1500000.0</td>\n",
       "      <td>2250000.0</td>\n",
       "      <td>3400000.0</td>\n",
       "      <td>12600000.0</td>\n",
       "    </tr>\n",
       "    <tr>\n",
       "      <th>fullstack engineer</th>\n",
       "      <td>5181.0</td>\n",
       "      <td>2.727037e+06</td>\n",
       "      <td>2.384095e+06</td>\n",
       "      <td>59000.0</td>\n",
       "      <td>1418000.0</td>\n",
       "      <td>2000000.0</td>\n",
       "      <td>3000000.0</td>\n",
       "      <td>12600000.0</td>\n",
       "    </tr>\n",
       "    <tr>\n",
       "      <th>other</th>\n",
       "      <td>3489.0</td>\n",
       "      <td>3.025159e+06</td>\n",
       "      <td>3.201891e+06</td>\n",
       "      <td>72000.0</td>\n",
       "      <td>1200000.0</td>\n",
       "      <td>1870000.0</td>\n",
       "      <td>3000000.0</td>\n",
       "      <td>12600000.0</td>\n",
       "    </tr>\n",
       "    <tr>\n",
       "      <th>frontend engineer</th>\n",
       "      <td>2172.0</td>\n",
       "      <td>2.354424e+06</td>\n",
       "      <td>2.262622e+06</td>\n",
       "      <td>90000.0</td>\n",
       "      <td>1300000.0</td>\n",
       "      <td>1700000.0</td>\n",
       "      <td>2400000.0</td>\n",
       "      <td>12600000.0</td>\n",
       "    </tr>\n",
       "    <tr>\n",
       "      <th>engineering leadership</th>\n",
       "      <td>1512.0</td>\n",
       "      <td>4.935503e+06</td>\n",
       "      <td>2.701027e+06</td>\n",
       "      <td>200000.0</td>\n",
       "      <td>3300000.0</td>\n",
       "      <td>4029999.0</td>\n",
       "      <td>5500000.0</td>\n",
       "      <td>12600000.0</td>\n",
       "    </tr>\n",
       "    <tr>\n",
       "      <th>qa engineer</th>\n",
       "      <td>1390.0</td>\n",
       "      <td>2.211147e+06</td>\n",
       "      <td>2.290434e+06</td>\n",
       "      <td>65000.0</td>\n",
       "      <td>1000000.0</td>\n",
       "      <td>1500000.0</td>\n",
       "      <td>2550000.0</td>\n",
       "      <td>12600000.0</td>\n",
       "    </tr>\n",
       "    <tr>\n",
       "      <th>data scientist</th>\n",
       "      <td>1141.0</td>\n",
       "      <td>2.942549e+06</td>\n",
       "      <td>2.258079e+06</td>\n",
       "      <td>115000.0</td>\n",
       "      <td>1700000.0</td>\n",
       "      <td>2300000.0</td>\n",
       "      <td>3200000.0</td>\n",
       "      <td>12600000.0</td>\n",
       "    </tr>\n",
       "    <tr>\n",
       "      <th>sdet</th>\n",
       "      <td>1065.0</td>\n",
       "      <td>2.069129e+06</td>\n",
       "      <td>1.796273e+06</td>\n",
       "      <td>400000.0</td>\n",
       "      <td>950000.0</td>\n",
       "      <td>1600000.0</td>\n",
       "      <td>2500000.0</td>\n",
       "      <td>12600000.0</td>\n",
       "    </tr>\n",
       "    <tr>\n",
       "      <th>devops engineer</th>\n",
       "      <td>1035.0</td>\n",
       "      <td>2.365506e+06</td>\n",
       "      <td>1.863392e+06</td>\n",
       "      <td>56000.0</td>\n",
       "      <td>1400000.0</td>\n",
       "      <td>1900000.0</td>\n",
       "      <td>2600000.0</td>\n",
       "      <td>12600000.0</td>\n",
       "    </tr>\n",
       "  </tbody>\n",
       "</table>\n",
       "</div>"
      ],
      "text/plain": [
       "                         count          mean           std       min  \\\n",
       "job_position                                                           \n",
       "backend engineer        9228.0  3.082104e+06  2.315730e+06   50000.0   \n",
       "Others                  9158.0  2.910646e+06  2.348892e+06   50000.0   \n",
       "fullstack engineer      5181.0  2.727037e+06  2.384095e+06   59000.0   \n",
       "other                   3489.0  3.025159e+06  3.201891e+06   72000.0   \n",
       "frontend engineer       2172.0  2.354424e+06  2.262622e+06   90000.0   \n",
       "engineering leadership  1512.0  4.935503e+06  2.701027e+06  200000.0   \n",
       "qa engineer             1390.0  2.211147e+06  2.290434e+06   65000.0   \n",
       "data scientist          1141.0  2.942549e+06  2.258079e+06  115000.0   \n",
       "sdet                    1065.0  2.069129e+06  1.796273e+06  400000.0   \n",
       "devops engineer         1035.0  2.365506e+06  1.863392e+06   56000.0   \n",
       "\n",
       "                              25%        50%        75%         max  \n",
       "job_position                                                         \n",
       "backend engineer        1700000.0  2400000.0  3700000.0  12600000.0  \n",
       "Others                  1500000.0  2250000.0  3400000.0  12600000.0  \n",
       "fullstack engineer      1418000.0  2000000.0  3000000.0  12600000.0  \n",
       "other                   1200000.0  1870000.0  3000000.0  12600000.0  \n",
       "frontend engineer       1300000.0  1700000.0  2400000.0  12600000.0  \n",
       "engineering leadership  3300000.0  4029999.0  5500000.0  12600000.0  \n",
       "qa engineer             1000000.0  1500000.0  2550000.0  12600000.0  \n",
       "data scientist          1700000.0  2300000.0  3200000.0  12600000.0  \n",
       "sdet                     950000.0  1600000.0  2500000.0  12600000.0  \n",
       "devops engineer         1400000.0  1900000.0  2600000.0  12600000.0  "
      ]
     },
     "execution_count": 48,
     "metadata": {},
     "output_type": "execute_result"
    }
   ],
   "source": [
    "# job position that has the highest class\n",
    "df_cj[df_cj['classs']==1][['job_position','ctc']].groupby('job_position')['ctc'].describe().sort_values(by=['count','mean'],ascending=False)[:10]"
   ]
  },
  {
   "cell_type": "code",
   "execution_count": 49,
   "id": "7eaf192e",
   "metadata": {
    "id": "og-n2Wu10Yi-"
   },
   "outputs": [],
   "source": [
    "df_cj.drop(columns=['count','mean','std','min','25%','50%','75%','max'],inplace=True)\n",
    "df_cjy.drop(columns=['count','mean','std','min','25%','50%','75%','max'],inplace=True)"
   ]
  },
  {
   "cell_type": "code",
   "execution_count": 50,
   "id": "58c17c51",
   "metadata": {
    "id": "RnmrIJpv1Db8"
   },
   "outputs": [
    {
     "data": {
      "text/html": [
       "<div>\n",
       "<style scoped>\n",
       "    .dataframe tbody tr th:only-of-type {\n",
       "        vertical-align: middle;\n",
       "    }\n",
       "\n",
       "    .dataframe tbody tr th {\n",
       "        vertical-align: top;\n",
       "    }\n",
       "\n",
       "    .dataframe thead th {\n",
       "        text-align: right;\n",
       "    }\n",
       "</style>\n",
       "<table border=\"1\" class=\"dataframe\">\n",
       "  <thead>\n",
       "    <tr style=\"text-align: right;\">\n",
       "      <th></th>\n",
       "      <th>company_hash</th>\n",
       "      <th>orgyear</th>\n",
       "      <th>ctc</th>\n",
       "      <th>job_position</th>\n",
       "      <th>ctc_updated_year</th>\n",
       "      <th>years_of_experience</th>\n",
       "      <th>classs</th>\n",
       "      <th>designation</th>\n",
       "    </tr>\n",
       "  </thead>\n",
       "  <tbody>\n",
       "    <tr>\n",
       "      <th>0</th>\n",
       "      <td>atrgxnnt xzaxv</td>\n",
       "      <td>2016.0</td>\n",
       "      <td>1100000.0</td>\n",
       "      <td>other</td>\n",
       "      <td>2020.0</td>\n",
       "      <td>6.0</td>\n",
       "      <td>1</td>\n",
       "      <td>2</td>\n",
       "    </tr>\n",
       "    <tr>\n",
       "      <th>1</th>\n",
       "      <td>qtrxvzwt xzegwgbb rxbxnta</td>\n",
       "      <td>2018.0</td>\n",
       "      <td>449999.0</td>\n",
       "      <td>fullstack engineer</td>\n",
       "      <td>2019.0</td>\n",
       "      <td>4.0</td>\n",
       "      <td>3</td>\n",
       "      <td>3</td>\n",
       "    </tr>\n",
       "    <tr>\n",
       "      <th>2</th>\n",
       "      <td>Others</td>\n",
       "      <td>2015.0</td>\n",
       "      <td>2000000.0</td>\n",
       "      <td>backend engineer</td>\n",
       "      <td>2020.0</td>\n",
       "      <td>7.0</td>\n",
       "      <td>1</td>\n",
       "      <td>1</td>\n",
       "    </tr>\n",
       "    <tr>\n",
       "      <th>3</th>\n",
       "      <td>ngpgutaxv</td>\n",
       "      <td>2017.0</td>\n",
       "      <td>700000.0</td>\n",
       "      <td>backend engineer</td>\n",
       "      <td>2019.0</td>\n",
       "      <td>5.0</td>\n",
       "      <td>3</td>\n",
       "      <td>3</td>\n",
       "    </tr>\n",
       "    <tr>\n",
       "      <th>4</th>\n",
       "      <td>qxen sqghu</td>\n",
       "      <td>2017.0</td>\n",
       "      <td>1400000.0</td>\n",
       "      <td>fullstack engineer</td>\n",
       "      <td>2019.0</td>\n",
       "      <td>5.0</td>\n",
       "      <td>1</td>\n",
       "      <td>2</td>\n",
       "    </tr>\n",
       "    <tr>\n",
       "      <th>...</th>\n",
       "      <td>...</td>\n",
       "      <td>...</td>\n",
       "      <td>...</td>\n",
       "      <td>...</td>\n",
       "      <td>...</td>\n",
       "      <td>...</td>\n",
       "      <td>...</td>\n",
       "      <td>...</td>\n",
       "    </tr>\n",
       "    <tr>\n",
       "      <th>165615</th>\n",
       "      <td>vuurt xzw</td>\n",
       "      <td>2008.0</td>\n",
       "      <td>220000.0</td>\n",
       "      <td>Others</td>\n",
       "      <td>2019.0</td>\n",
       "      <td>14.0</td>\n",
       "      <td>3</td>\n",
       "      <td>2</td>\n",
       "    </tr>\n",
       "    <tr>\n",
       "      <th>165616</th>\n",
       "      <td>husqvawgb</td>\n",
       "      <td>2017.0</td>\n",
       "      <td>500000.0</td>\n",
       "      <td>Others</td>\n",
       "      <td>2020.0</td>\n",
       "      <td>5.0</td>\n",
       "      <td>3</td>\n",
       "      <td>3</td>\n",
       "    </tr>\n",
       "    <tr>\n",
       "      <th>165617</th>\n",
       "      <td>vwwgrxnt</td>\n",
       "      <td>2021.0</td>\n",
       "      <td>700000.0</td>\n",
       "      <td>Others</td>\n",
       "      <td>2021.0</td>\n",
       "      <td>1.0</td>\n",
       "      <td>3</td>\n",
       "      <td>2</td>\n",
       "    </tr>\n",
       "    <tr>\n",
       "      <th>165618</th>\n",
       "      <td>zgn vuurxwvmrt</td>\n",
       "      <td>2019.0</td>\n",
       "      <td>5100000.0</td>\n",
       "      <td>Others</td>\n",
       "      <td>2019.0</td>\n",
       "      <td>3.0</td>\n",
       "      <td>1</td>\n",
       "      <td>1</td>\n",
       "    </tr>\n",
       "    <tr>\n",
       "      <th>165619</th>\n",
       "      <td>bgqsvz onvzrtj</td>\n",
       "      <td>2014.0</td>\n",
       "      <td>1240000.0</td>\n",
       "      <td>Others</td>\n",
       "      <td>2016.0</td>\n",
       "      <td>8.0</td>\n",
       "      <td>3</td>\n",
       "      <td>3</td>\n",
       "    </tr>\n",
       "  </tbody>\n",
       "</table>\n",
       "<p>165620 rows × 8 columns</p>\n",
       "</div>"
      ],
      "text/plain": [
       "                     company_hash  orgyear        ctc        job_position  \\\n",
       "0                  atrgxnnt xzaxv   2016.0  1100000.0               other   \n",
       "1       qtrxvzwt xzegwgbb rxbxnta   2018.0   449999.0  fullstack engineer   \n",
       "2                          Others   2015.0  2000000.0    backend engineer   \n",
       "3                       ngpgutaxv   2017.0   700000.0    backend engineer   \n",
       "4                      qxen sqghu   2017.0  1400000.0  fullstack engineer   \n",
       "...                           ...      ...        ...                 ...   \n",
       "165615                  vuurt xzw   2008.0   220000.0              Others   \n",
       "165616                  husqvawgb   2017.0   500000.0              Others   \n",
       "165617                   vwwgrxnt   2021.0   700000.0              Others   \n",
       "165618             zgn vuurxwvmrt   2019.0  5100000.0              Others   \n",
       "165619             bgqsvz onvzrtj   2014.0  1240000.0              Others   \n",
       "\n",
       "        ctc_updated_year  years_of_experience  classs  designation  \n",
       "0                 2020.0                  6.0       1            2  \n",
       "1                 2019.0                  4.0       3            3  \n",
       "2                 2020.0                  7.0       1            1  \n",
       "3                 2019.0                  5.0       3            3  \n",
       "4                 2019.0                  5.0       1            2  \n",
       "...                  ...                  ...     ...          ...  \n",
       "165615            2019.0                 14.0       3            2  \n",
       "165616            2020.0                  5.0       3            3  \n",
       "165617            2021.0                  1.0       3            2  \n",
       "165618            2019.0                  3.0       1            1  \n",
       "165619            2016.0                  8.0       3            3  \n",
       "\n",
       "[165620 rows x 8 columns]"
      ]
     },
     "execution_count": 50,
     "metadata": {},
     "output_type": "execute_result"
    }
   ],
   "source": [
    "df_cjy_cj=df_cj.merge(df_cjy, on=['company_hash','orgyear','ctc','job_position','years_of_experience','ctc_updated_year'], how='left')\n",
    "df_cjy_cj"
   ]
  },
  {
   "cell_type": "markdown",
   "id": "d883217a",
   "metadata": {},
   "source": [
    "A class column  represent CTC order as Class 1 > Class 2 > Class 3"
   ]
  },
  {
   "cell_type": "markdown",
   "id": "18676ea6",
   "metadata": {
    "id": "XxwkqD2mjZNB"
   },
   "source": [
    "## Manual Clustering based on comapny"
   ]
  },
  {
   "cell_type": "code",
   "execution_count": 51,
   "id": "0aa482e0",
   "metadata": {
    "id": "gIhd3y8njZys"
   },
   "outputs": [
    {
     "data": {
      "text/html": [
       "<div>\n",
       "<style scoped>\n",
       "    .dataframe tbody tr th:only-of-type {\n",
       "        vertical-align: middle;\n",
       "    }\n",
       "\n",
       "    .dataframe tbody tr th {\n",
       "        vertical-align: top;\n",
       "    }\n",
       "\n",
       "    .dataframe thead th {\n",
       "        text-align: right;\n",
       "    }\n",
       "</style>\n",
       "<table border=\"1\" class=\"dataframe\">\n",
       "  <thead>\n",
       "    <tr style=\"text-align: right;\">\n",
       "      <th></th>\n",
       "      <th>company_hash</th>\n",
       "      <th>orgyear</th>\n",
       "      <th>ctc</th>\n",
       "      <th>job_position</th>\n",
       "      <th>ctc_updated_year</th>\n",
       "      <th>years_of_experience</th>\n",
       "      <th>count</th>\n",
       "      <th>mean</th>\n",
       "      <th>std</th>\n",
       "      <th>min</th>\n",
       "      <th>25%</th>\n",
       "      <th>50%</th>\n",
       "      <th>75%</th>\n",
       "      <th>max</th>\n",
       "    </tr>\n",
       "  </thead>\n",
       "  <tbody>\n",
       "    <tr>\n",
       "      <th>0</th>\n",
       "      <td>atrgxnnt xzaxv</td>\n",
       "      <td>2016.0</td>\n",
       "      <td>1100000.0</td>\n",
       "      <td>other</td>\n",
       "      <td>2020.0</td>\n",
       "      <td>6.0</td>\n",
       "      <td>9.0</td>\n",
       "      <td>1.115667e+06</td>\n",
       "      <td>4.581119e+05</td>\n",
       "      <td>500000.0</td>\n",
       "      <td>800000.0</td>\n",
       "      <td>1070000.0</td>\n",
       "      <td>1500000.0</td>\n",
       "      <td>1771000.0</td>\n",
       "    </tr>\n",
       "    <tr>\n",
       "      <th>1</th>\n",
       "      <td>qtrxvzwt xzegwgbb rxbxnta</td>\n",
       "      <td>2018.0</td>\n",
       "      <td>449999.0</td>\n",
       "      <td>fullstack engineer</td>\n",
       "      <td>2019.0</td>\n",
       "      <td>4.0</td>\n",
       "      <td>411.0</td>\n",
       "      <td>1.326951e+06</td>\n",
       "      <td>1.474961e+06</td>\n",
       "      <td>38000.0</td>\n",
       "      <td>600000.0</td>\n",
       "      <td>900000.0</td>\n",
       "      <td>1700000.0</td>\n",
       "      <td>12600000.0</td>\n",
       "    </tr>\n",
       "  </tbody>\n",
       "</table>\n",
       "</div>"
      ],
      "text/plain": [
       "                company_hash  orgyear        ctc        job_position  \\\n",
       "0             atrgxnnt xzaxv   2016.0  1100000.0               other   \n",
       "1  qtrxvzwt xzegwgbb rxbxnta   2018.0   449999.0  fullstack engineer   \n",
       "\n",
       "   ctc_updated_year  years_of_experience  count          mean           std  \\\n",
       "0            2020.0                  6.0    9.0  1.115667e+06  4.581119e+05   \n",
       "1            2019.0                  4.0  411.0  1.326951e+06  1.474961e+06   \n",
       "\n",
       "        min       25%        50%        75%         max  \n",
       "0  500000.0  800000.0  1070000.0  1500000.0   1771000.0  \n",
       "1   38000.0  600000.0   900000.0  1700000.0  12600000.0  "
      ]
     },
     "execution_count": 51,
     "metadata": {},
     "output_type": "execute_result"
    }
   ],
   "source": [
    "grouped_c = df.groupby(['company_hash'])['ctc'].describe()\n",
    "df_c = df.merge(grouped_c, on=['company_hash'], how='left')\n",
    "df_c.head(2)"
   ]
  },
  {
   "cell_type": "markdown",
   "id": "6f114469",
   "metadata": {
    "id": "J9qRZ-CcjJi9"
   },
   "source": [
    "### Creating Tier basis on the salary in the companies"
   ]
  },
  {
   "cell_type": "code",
   "execution_count": 52,
   "id": "942ec8bd",
   "metadata": {
    "id": "FZXW_mWQi-_w"
   },
   "outputs": [
    {
     "data": {
      "text/html": [
       "<div>\n",
       "<style scoped>\n",
       "    .dataframe tbody tr th:only-of-type {\n",
       "        vertical-align: middle;\n",
       "    }\n",
       "\n",
       "    .dataframe tbody tr th {\n",
       "        vertical-align: top;\n",
       "    }\n",
       "\n",
       "    .dataframe thead th {\n",
       "        text-align: right;\n",
       "    }\n",
       "</style>\n",
       "<table border=\"1\" class=\"dataframe\">\n",
       "  <thead>\n",
       "    <tr style=\"text-align: right;\">\n",
       "      <th></th>\n",
       "      <th>company_hash</th>\n",
       "      <th>orgyear</th>\n",
       "      <th>ctc</th>\n",
       "      <th>job_position</th>\n",
       "      <th>ctc_updated_year</th>\n",
       "      <th>years_of_experience</th>\n",
       "      <th>count</th>\n",
       "      <th>mean</th>\n",
       "      <th>std</th>\n",
       "      <th>min</th>\n",
       "      <th>25%</th>\n",
       "      <th>50%</th>\n",
       "      <th>75%</th>\n",
       "      <th>max</th>\n",
       "      <th>tier</th>\n",
       "    </tr>\n",
       "  </thead>\n",
       "  <tbody>\n",
       "    <tr>\n",
       "      <th>0</th>\n",
       "      <td>atrgxnnt xzaxv</td>\n",
       "      <td>2016.0</td>\n",
       "      <td>1100000.0</td>\n",
       "      <td>other</td>\n",
       "      <td>2020.0</td>\n",
       "      <td>6.0</td>\n",
       "      <td>9.0</td>\n",
       "      <td>1.115667e+06</td>\n",
       "      <td>4.581119e+05</td>\n",
       "      <td>500000.0</td>\n",
       "      <td>800000.0</td>\n",
       "      <td>1070000.0</td>\n",
       "      <td>1500000.0</td>\n",
       "      <td>1771000.0</td>\n",
       "      <td>2</td>\n",
       "    </tr>\n",
       "    <tr>\n",
       "      <th>1</th>\n",
       "      <td>qtrxvzwt xzegwgbb rxbxnta</td>\n",
       "      <td>2018.0</td>\n",
       "      <td>449999.0</td>\n",
       "      <td>fullstack engineer</td>\n",
       "      <td>2019.0</td>\n",
       "      <td>4.0</td>\n",
       "      <td>411.0</td>\n",
       "      <td>1.326951e+06</td>\n",
       "      <td>1.474961e+06</td>\n",
       "      <td>38000.0</td>\n",
       "      <td>600000.0</td>\n",
       "      <td>900000.0</td>\n",
       "      <td>1700000.0</td>\n",
       "      <td>12600000.0</td>\n",
       "      <td>3</td>\n",
       "    </tr>\n",
       "  </tbody>\n",
       "</table>\n",
       "</div>"
      ],
      "text/plain": [
       "                company_hash  orgyear        ctc        job_position  \\\n",
       "0             atrgxnnt xzaxv   2016.0  1100000.0               other   \n",
       "1  qtrxvzwt xzegwgbb rxbxnta   2018.0   449999.0  fullstack engineer   \n",
       "\n",
       "   ctc_updated_year  years_of_experience  count          mean           std  \\\n",
       "0            2020.0                  6.0    9.0  1.115667e+06  4.581119e+05   \n",
       "1            2019.0                  4.0  411.0  1.326951e+06  1.474961e+06   \n",
       "\n",
       "        min       25%        50%        75%         max  tier  \n",
       "0  500000.0  800000.0  1070000.0  1500000.0   1771000.0     2  \n",
       "1   38000.0  600000.0   900000.0  1700000.0  12600000.0     3  "
      ]
     },
     "execution_count": 52,
     "metadata": {},
     "output_type": "execute_result"
    }
   ],
   "source": [
    "df_c['tier'] =df_c.apply(lambda x: segment(x['ctc'],x['50%'],x['75%']),axis=1)\n",
    "df_c.head(2)"
   ]
  },
  {
   "cell_type": "code",
   "execution_count": 53,
   "id": "661c3ca2",
   "metadata": {
    "colab": {
     "base_uri": "https://localhost:8080/"
    },
    "id": "VJaOlLEkj42l",
    "outputId": "302341d6-f425-435d-fe21-63c42fbbab40"
   },
   "outputs": [
    {
     "data": {
      "text/plain": [
       "3    0.477098\n",
       "2    0.282442\n",
       "1    0.240460\n",
       "Name: tier, dtype: float64"
      ]
     },
     "execution_count": 53,
     "metadata": {},
     "output_type": "execute_result"
    }
   ],
   "source": [
    "df_c.tier.value_counts(normalize=True)"
   ]
  },
  {
   "cell_type": "markdown",
   "id": "9e54309e",
   "metadata": {},
   "source": [
    "A Tier column  is for Companies  so CTC wise  order is Tier 1>Tier2 >Tier 3"
   ]
  },
  {
   "cell_type": "code",
   "execution_count": 54,
   "id": "b029ec89",
   "metadata": {
    "id": "aziCVggs2aPc"
   },
   "outputs": [
    {
     "data": {
      "text/html": [
       "<div>\n",
       "<style scoped>\n",
       "    .dataframe tbody tr th:only-of-type {\n",
       "        vertical-align: middle;\n",
       "    }\n",
       "\n",
       "    .dataframe tbody tr th {\n",
       "        vertical-align: top;\n",
       "    }\n",
       "\n",
       "    .dataframe thead th {\n",
       "        text-align: right;\n",
       "    }\n",
       "</style>\n",
       "<table border=\"1\" class=\"dataframe\">\n",
       "  <thead>\n",
       "    <tr style=\"text-align: right;\">\n",
       "      <th></th>\n",
       "      <th>company_hash</th>\n",
       "      <th>orgyear</th>\n",
       "      <th>ctc</th>\n",
       "      <th>job_position</th>\n",
       "      <th>ctc_updated_year</th>\n",
       "      <th>years_of_experience</th>\n",
       "      <th>classs</th>\n",
       "      <th>designation</th>\n",
       "      <th>count</th>\n",
       "      <th>mean</th>\n",
       "      <th>std</th>\n",
       "      <th>min</th>\n",
       "      <th>25%</th>\n",
       "      <th>50%</th>\n",
       "      <th>75%</th>\n",
       "      <th>max</th>\n",
       "      <th>tier</th>\n",
       "    </tr>\n",
       "  </thead>\n",
       "  <tbody>\n",
       "    <tr>\n",
       "      <th>0</th>\n",
       "      <td>atrgxnnt xzaxv</td>\n",
       "      <td>2016.0</td>\n",
       "      <td>1100000.0</td>\n",
       "      <td>other</td>\n",
       "      <td>2020.0</td>\n",
       "      <td>6.0</td>\n",
       "      <td>1</td>\n",
       "      <td>2</td>\n",
       "      <td>9.0</td>\n",
       "      <td>1.115667e+06</td>\n",
       "      <td>4.581119e+05</td>\n",
       "      <td>500000.0</td>\n",
       "      <td>800000.0</td>\n",
       "      <td>1070000.0</td>\n",
       "      <td>1500000.0</td>\n",
       "      <td>1771000.0</td>\n",
       "      <td>2</td>\n",
       "    </tr>\n",
       "    <tr>\n",
       "      <th>1</th>\n",
       "      <td>qtrxvzwt xzegwgbb rxbxnta</td>\n",
       "      <td>2018.0</td>\n",
       "      <td>449999.0</td>\n",
       "      <td>fullstack engineer</td>\n",
       "      <td>2019.0</td>\n",
       "      <td>4.0</td>\n",
       "      <td>3</td>\n",
       "      <td>3</td>\n",
       "      <td>411.0</td>\n",
       "      <td>1.326951e+06</td>\n",
       "      <td>1.474961e+06</td>\n",
       "      <td>38000.0</td>\n",
       "      <td>600000.0</td>\n",
       "      <td>900000.0</td>\n",
       "      <td>1700000.0</td>\n",
       "      <td>12600000.0</td>\n",
       "      <td>3</td>\n",
       "    </tr>\n",
       "    <tr>\n",
       "      <th>2</th>\n",
       "      <td>Others</td>\n",
       "      <td>2015.0</td>\n",
       "      <td>2000000.0</td>\n",
       "      <td>backend engineer</td>\n",
       "      <td>2020.0</td>\n",
       "      <td>7.0</td>\n",
       "      <td>1</td>\n",
       "      <td>1</td>\n",
       "      <td>26183.0</td>\n",
       "      <td>1.430087e+06</td>\n",
       "      <td>1.902663e+06</td>\n",
       "      <td>38000.0</td>\n",
       "      <td>420000.0</td>\n",
       "      <td>890000.0</td>\n",
       "      <td>1673500.0</td>\n",
       "      <td>12600000.0</td>\n",
       "      <td>1</td>\n",
       "    </tr>\n",
       "    <tr>\n",
       "      <th>3</th>\n",
       "      <td>ngpgutaxv</td>\n",
       "      <td>2017.0</td>\n",
       "      <td>700000.0</td>\n",
       "      <td>backend engineer</td>\n",
       "      <td>2019.0</td>\n",
       "      <td>5.0</td>\n",
       "      <td>3</td>\n",
       "      <td>3</td>\n",
       "      <td>67.0</td>\n",
       "      <td>1.729478e+06</td>\n",
       "      <td>9.861481e+05</td>\n",
       "      <td>200000.0</td>\n",
       "      <td>1100000.0</td>\n",
       "      <td>1400000.0</td>\n",
       "      <td>2100000.0</td>\n",
       "      <td>4700000.0</td>\n",
       "      <td>3</td>\n",
       "    </tr>\n",
       "    <tr>\n",
       "      <th>4</th>\n",
       "      <td>qxen sqghu</td>\n",
       "      <td>2017.0</td>\n",
       "      <td>1400000.0</td>\n",
       "      <td>fullstack engineer</td>\n",
       "      <td>2019.0</td>\n",
       "      <td>5.0</td>\n",
       "      <td>1</td>\n",
       "      <td>2</td>\n",
       "      <td>6.0</td>\n",
       "      <td>9.400000e+05</td>\n",
       "      <td>3.898718e+05</td>\n",
       "      <td>540000.0</td>\n",
       "      <td>625000.0</td>\n",
       "      <td>850000.0</td>\n",
       "      <td>1300000.0</td>\n",
       "      <td>1400000.0</td>\n",
       "      <td>1</td>\n",
       "    </tr>\n",
       "    <tr>\n",
       "      <th>5</th>\n",
       "      <td>yvuuxrj hzbvqqxta bvqptnxzs ucn rna</td>\n",
       "      <td>2018.0</td>\n",
       "      <td>700000.0</td>\n",
       "      <td>fullstack engineer</td>\n",
       "      <td>2020.0</td>\n",
       "      <td>4.0</td>\n",
       "      <td>2</td>\n",
       "      <td>2</td>\n",
       "      <td>6.0</td>\n",
       "      <td>9.066667e+05</td>\n",
       "      <td>5.397283e+05</td>\n",
       "      <td>620000.0</td>\n",
       "      <td>640000.0</td>\n",
       "      <td>700000.0</td>\n",
       "      <td>775000.0</td>\n",
       "      <td>2000000.0</td>\n",
       "      <td>2</td>\n",
       "    </tr>\n",
       "    <tr>\n",
       "      <th>6</th>\n",
       "      <td>lubgqsvz wyvot  wg</td>\n",
       "      <td>2018.0</td>\n",
       "      <td>1500000.0</td>\n",
       "      <td>fullstack engineer</td>\n",
       "      <td>2019.0</td>\n",
       "      <td>4.0</td>\n",
       "      <td>3</td>\n",
       "      <td>3</td>\n",
       "      <td>1021.0</td>\n",
       "      <td>2.112238e+06</td>\n",
       "      <td>1.589891e+06</td>\n",
       "      <td>38000.0</td>\n",
       "      <td>1350000.0</td>\n",
       "      <td>1800000.0</td>\n",
       "      <td>2500000.0</td>\n",
       "      <td>12600000.0</td>\n",
       "      <td>3</td>\n",
       "    </tr>\n",
       "    <tr>\n",
       "      <th>7</th>\n",
       "      <td>vwwtznhqt ntwyzgrgsj</td>\n",
       "      <td>2019.0</td>\n",
       "      <td>400000.0</td>\n",
       "      <td>backend engineer</td>\n",
       "      <td>2019.0</td>\n",
       "      <td>3.0</td>\n",
       "      <td>3</td>\n",
       "      <td>3</td>\n",
       "      <td>25.0</td>\n",
       "      <td>7.768000e+05</td>\n",
       "      <td>6.241509e+05</td>\n",
       "      <td>300000.0</td>\n",
       "      <td>430000.0</td>\n",
       "      <td>640000.0</td>\n",
       "      <td>900000.0</td>\n",
       "      <td>3500000.0</td>\n",
       "      <td>3</td>\n",
       "    </tr>\n",
       "    <tr>\n",
       "      <th>8</th>\n",
       "      <td>utqoxontzn ojontbo</td>\n",
       "      <td>2020.0</td>\n",
       "      <td>450000.0</td>\n",
       "      <td>Others</td>\n",
       "      <td>2020.0</td>\n",
       "      <td>2.0</td>\n",
       "      <td>3</td>\n",
       "      <td>3</td>\n",
       "      <td>441.0</td>\n",
       "      <td>1.092651e+06</td>\n",
       "      <td>9.362584e+05</td>\n",
       "      <td>90000.0</td>\n",
       "      <td>590000.0</td>\n",
       "      <td>880000.0</td>\n",
       "      <td>1330000.0</td>\n",
       "      <td>12600000.0</td>\n",
       "      <td>3</td>\n",
       "    </tr>\n",
       "    <tr>\n",
       "      <th>9</th>\n",
       "      <td>Others</td>\n",
       "      <td>2019.0</td>\n",
       "      <td>360000.0</td>\n",
       "      <td>Others</td>\n",
       "      <td>2019.0</td>\n",
       "      <td>3.0</td>\n",
       "      <td>3</td>\n",
       "      <td>3</td>\n",
       "      <td>26183.0</td>\n",
       "      <td>1.430087e+06</td>\n",
       "      <td>1.902663e+06</td>\n",
       "      <td>38000.0</td>\n",
       "      <td>420000.0</td>\n",
       "      <td>890000.0</td>\n",
       "      <td>1673500.0</td>\n",
       "      <td>12600000.0</td>\n",
       "      <td>3</td>\n",
       "    </tr>\n",
       "  </tbody>\n",
       "</table>\n",
       "</div>"
      ],
      "text/plain": [
       "                          company_hash  orgyear        ctc  \\\n",
       "0                       atrgxnnt xzaxv   2016.0  1100000.0   \n",
       "1            qtrxvzwt xzegwgbb rxbxnta   2018.0   449999.0   \n",
       "2                               Others   2015.0  2000000.0   \n",
       "3                            ngpgutaxv   2017.0   700000.0   \n",
       "4                           qxen sqghu   2017.0  1400000.0   \n",
       "5  yvuuxrj hzbvqqxta bvqptnxzs ucn rna   2018.0   700000.0   \n",
       "6                   lubgqsvz wyvot  wg   2018.0  1500000.0   \n",
       "7                 vwwtznhqt ntwyzgrgsj   2019.0   400000.0   \n",
       "8                   utqoxontzn ojontbo   2020.0   450000.0   \n",
       "9                               Others   2019.0   360000.0   \n",
       "\n",
       "         job_position  ctc_updated_year  years_of_experience  classs  \\\n",
       "0               other            2020.0                  6.0       1   \n",
       "1  fullstack engineer            2019.0                  4.0       3   \n",
       "2    backend engineer            2020.0                  7.0       1   \n",
       "3    backend engineer            2019.0                  5.0       3   \n",
       "4  fullstack engineer            2019.0                  5.0       1   \n",
       "5  fullstack engineer            2020.0                  4.0       2   \n",
       "6  fullstack engineer            2019.0                  4.0       3   \n",
       "7    backend engineer            2019.0                  3.0       3   \n",
       "8              Others            2020.0                  2.0       3   \n",
       "9              Others            2019.0                  3.0       3   \n",
       "\n",
       "   designation    count          mean           std       min        25%  \\\n",
       "0            2      9.0  1.115667e+06  4.581119e+05  500000.0   800000.0   \n",
       "1            3    411.0  1.326951e+06  1.474961e+06   38000.0   600000.0   \n",
       "2            1  26183.0  1.430087e+06  1.902663e+06   38000.0   420000.0   \n",
       "3            3     67.0  1.729478e+06  9.861481e+05  200000.0  1100000.0   \n",
       "4            2      6.0  9.400000e+05  3.898718e+05  540000.0   625000.0   \n",
       "5            2      6.0  9.066667e+05  5.397283e+05  620000.0   640000.0   \n",
       "6            3   1021.0  2.112238e+06  1.589891e+06   38000.0  1350000.0   \n",
       "7            3     25.0  7.768000e+05  6.241509e+05  300000.0   430000.0   \n",
       "8            3    441.0  1.092651e+06  9.362584e+05   90000.0   590000.0   \n",
       "9            3  26183.0  1.430087e+06  1.902663e+06   38000.0   420000.0   \n",
       "\n",
       "         50%        75%         max  tier  \n",
       "0  1070000.0  1500000.0   1771000.0     2  \n",
       "1   900000.0  1700000.0  12600000.0     3  \n",
       "2   890000.0  1673500.0  12600000.0     1  \n",
       "3  1400000.0  2100000.0   4700000.0     3  \n",
       "4   850000.0  1300000.0   1400000.0     1  \n",
       "5   700000.0   775000.0   2000000.0     2  \n",
       "6  1800000.0  2500000.0  12600000.0     3  \n",
       "7   640000.0   900000.0   3500000.0     3  \n",
       "8   880000.0  1330000.0  12600000.0     3  \n",
       "9   890000.0  1673500.0  12600000.0     3  "
      ]
     },
     "execution_count": 54,
     "metadata": {},
     "output_type": "execute_result"
    }
   ],
   "source": [
    "#Merging thw whole data frame\n",
    "df_cjy_cj_c=df_cjy_cj.merge(df_c, on=['company_hash','orgyear','ctc','job_position','years_of_experience','ctc_updated_year'], how='left')\n",
    "df_cjy_cj_c.head(10)"
   ]
  },
  {
   "cell_type": "code",
   "execution_count": 55,
   "id": "3e8c0cb5",
   "metadata": {
    "id": "b259f106"
   },
   "outputs": [
    {
     "data": {
      "text/html": [
       "<div>\n",
       "<style scoped>\n",
       "    .dataframe tbody tr th:only-of-type {\n",
       "        vertical-align: middle;\n",
       "    }\n",
       "\n",
       "    .dataframe tbody tr th {\n",
       "        vertical-align: top;\n",
       "    }\n",
       "\n",
       "    .dataframe thead th {\n",
       "        text-align: right;\n",
       "    }\n",
       "</style>\n",
       "<table border=\"1\" class=\"dataframe\">\n",
       "  <thead>\n",
       "    <tr style=\"text-align: right;\">\n",
       "      <th></th>\n",
       "      <th>company_hash</th>\n",
       "      <th>orgyear</th>\n",
       "      <th>ctc</th>\n",
       "      <th>job_position</th>\n",
       "      <th>ctc_updated_year</th>\n",
       "      <th>years_of_experience</th>\n",
       "      <th>classs</th>\n",
       "      <th>designation</th>\n",
       "      <th>tier</th>\n",
       "    </tr>\n",
       "  </thead>\n",
       "  <tbody>\n",
       "    <tr>\n",
       "      <th>0</th>\n",
       "      <td>atrgxnnt xzaxv</td>\n",
       "      <td>2016.0</td>\n",
       "      <td>1100000.0</td>\n",
       "      <td>other</td>\n",
       "      <td>2020.0</td>\n",
       "      <td>6.0</td>\n",
       "      <td>1</td>\n",
       "      <td>2</td>\n",
       "      <td>2</td>\n",
       "    </tr>\n",
       "    <tr>\n",
       "      <th>1</th>\n",
       "      <td>qtrxvzwt xzegwgbb rxbxnta</td>\n",
       "      <td>2018.0</td>\n",
       "      <td>449999.0</td>\n",
       "      <td>fullstack engineer</td>\n",
       "      <td>2019.0</td>\n",
       "      <td>4.0</td>\n",
       "      <td>3</td>\n",
       "      <td>3</td>\n",
       "      <td>3</td>\n",
       "    </tr>\n",
       "  </tbody>\n",
       "</table>\n",
       "</div>"
      ],
      "text/plain": [
       "                company_hash  orgyear        ctc        job_position  \\\n",
       "0             atrgxnnt xzaxv   2016.0  1100000.0               other   \n",
       "1  qtrxvzwt xzegwgbb rxbxnta   2018.0   449999.0  fullstack engineer   \n",
       "\n",
       "   ctc_updated_year  years_of_experience  classs  designation  tier  \n",
       "0            2020.0                  6.0       1            2     2  \n",
       "1            2019.0                  4.0       3            3     3  "
      ]
     },
     "execution_count": 55,
     "metadata": {},
     "output_type": "execute_result"
    }
   ],
   "source": [
    "#Dropping those columns which not needed.\n",
    "df_cjy_cj_c.drop(columns=['count','mean','std','min','25%','50%','75%','max'],inplace=True)\n",
    "df_cjy_cj_c.head(2)"
   ]
  },
  {
   "cell_type": "code",
   "execution_count": 56,
   "id": "c34714ce",
   "metadata": {},
   "outputs": [
    {
     "data": {
      "text/plain": [
       "Index(['company_hash', 'orgyear', 'ctc', 'job_position', 'ctc_updated_year',\n",
       "       'years_of_experience', 'classs', 'designation', 'tier'],\n",
       "      dtype='object')"
      ]
     },
     "execution_count": 56,
     "metadata": {},
     "output_type": "execute_result"
    }
   ],
   "source": [
    "df_cjy_cj_c.columns"
   ]
  },
  {
   "cell_type": "code",
   "execution_count": 57,
   "id": "2d9a60a1",
   "metadata": {},
   "outputs": [],
   "source": [
    "X = df_cjy_cj_c[['ctc', 'years_of_experience', 'classs', 'designation', 'tier']].copy()"
   ]
  },
  {
   "cell_type": "code",
   "execution_count": 58,
   "id": "1aca38ef",
   "metadata": {},
   "outputs": [
    {
     "data": {
      "text/plain": [
       "Index(['company_hash', 'orgyear', 'ctc', 'job_position', 'ctc_updated_year',\n",
       "       'years_of_experience'],\n",
       "      dtype='object')"
      ]
     },
     "execution_count": 58,
     "metadata": {},
     "output_type": "execute_result"
    }
   ],
   "source": [
    "df.columns"
   ]
  },
  {
   "cell_type": "code",
   "execution_count": 62,
   "id": "e31586bb",
   "metadata": {},
   "outputs": [],
   "source": [
    "#Doing sclaing of Data using standardscaler.\n",
    "from sklearn.preprocessing import StandardScaler\n",
    "scaler = StandardScaler()\n",
    "scaler.fit(X)\n",
    "X_sc = pd.DataFrame(scaler.transform(X), columns=X.columns, index=X.index)"
   ]
  },
  {
   "cell_type": "code",
   "execution_count": 63,
   "id": "83689766",
   "metadata": {},
   "outputs": [
    {
     "data": {
      "text/plain": [
       "(165620, 5)"
      ]
     },
     "execution_count": 63,
     "metadata": {},
     "output_type": "execute_result"
    }
   ],
   "source": [
    "#after scaling the data frame\n",
    "X_sc.shape"
   ]
  },
  {
   "cell_type": "code",
   "execution_count": 64,
   "id": "c7d0eaaa",
   "metadata": {},
   "outputs": [
    {
     "data": {
      "text/plain": [
       "Text(0, 0.5, 'distance')"
      ]
     },
     "execution_count": 64,
     "metadata": {},
     "output_type": "execute_result"
    },
    {
     "data": {
      "image/png": "[encoded data removed]",
      "text/plain": [
       "<Figure size 2000x1200 with 1 Axes>"
      ]
     },
     "metadata": {},
     "output_type": "display_data"
    }
   ],
   "source": [
    "# Doing Hierarchical clusteing of Aggregration type on 500 data points using 'ward distance'\n",
    "import scipy.cluster.hierarchy as sch\n",
    "import matplotlib.pyplot as plt\n",
    "\n",
    "sample = X_sc.sample(500)\n",
    "Z = sch.linkage(sample, method='ward')\n",
    "\n",
    "fig, ax = plt.subplots(figsize=(20, 12))\n",
    "sch.dendrogram(Z, labels=sample.index, ax=ax, color_threshold=2)\n",
    "plt.xticks(rotation=90)\n",
    "ax.set_ylabel('distance')"
   ]
  },
  {
   "cell_type": "markdown",
   "id": "102ac90d",
   "metadata": {},
   "source": [
    "Since Hierarchical is computationally expensive , we had done for 500 data points only."
   ]
  },
  {
   "cell_type": "code",
   "execution_count": 65,
   "id": "7859285b",
   "metadata": {},
   "outputs": [],
   "source": [
    "#Doing Kmeans clustering \n",
    "from sklearn.cluster import KMeans\n",
    "\n",
    "k = 3\n",
    "kmeans = KMeans(n_clusters=k, random_state=42)\n",
    "y_pred = kmeans.fit_predict(X_sc)\n",
    "\n",
    "##coordinates of the cluster centers\n",
    "# kmeans.cluster_centers_\n",
    "clusters = pd.DataFrame(X_sc, columns=X.columns)\n",
    "clusters['label'] = kmeans.labels_"
   ]
  },
  {
   "cell_type": "code",
   "execution_count": 66,
   "id": "b307f40c",
   "metadata": {},
   "outputs": [
    {
     "data": {
      "image/png": "[encoded data removed]",
      "text/plain": [
       "<Figure size 640x480 with 1 Axes>"
      ]
     },
     "metadata": {},
     "output_type": "display_data"
    }
   ],
   "source": [
    "x_axis = 'years_of_experience'\n",
    "y_axis = 'classs'\n",
    "\n",
    "plt.scatter(clusters[x_axis], clusters[y_axis], c=clusters['label'], )\n",
    "plt.scatter(kmeans.cluster_centers_[:, 1], kmeans.cluster_centers_[:, 2], color=\"red\", marker=\"X\", s=100)\n",
    "plt.xlabel(x_axis)\n",
    "plt.ylabel(y_axis);"
   ]
  },
  {
   "cell_type": "code",
   "execution_count": 68,
   "id": "2db238dd",
   "metadata": {},
   "outputs": [],
   "source": [
    "# #Using 3d plot , we are trying to see.\n",
    "# import plotly.express as px\n",
    "# fig = px.scatter_3d(clusters, x='years_of_experience', y='ctc', z='tier', color='label', width=800, height=800)\n",
    "# fig.show()"
   ]
  },
  {
   "cell_type": "code",
   "execution_count": null,
   "id": "35c2fc9b",
   "metadata": {},
   "outputs": [],
   "source": []
  }
 ],
 "metadata": {
  "colab": {
   "collapsed_sections": [
    "01742d41"
   ],
   "provenance": []
  },
  "kernelspec": {
   "display_name": "Python 3 (ipykernel)",
   "language": "python",
   "name": "python3"
  },
  "language_info": {
   "codemirror_mode": {
    "name": "ipython",
    "version": 3
   },
   "file_extension": ".py",
   "mimetype": "text/x-python",
   "name": "python",
   "nbconvert_exporter": "python",
   "pygments_lexer": "ipython3",
   "version": "3.9.13"
  }
 },
 "nbformat": 4,
 "nbformat_minor": 5
}
